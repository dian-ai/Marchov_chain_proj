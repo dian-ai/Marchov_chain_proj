{
 "cells": [
  {
   "cell_type": "code",
   "execution_count": 36,
   "metadata": {},
   "outputs": [],
   "source": [
    "import pandas as pd\n",
    "import numpy as np\n",
    "import matplotlib.pyplot as plt\n",
    "import seaborn as sns\n",
    "\n",
    "\n",
    "sns.set(rc = {'figure.figsize':(12,7)})"
   ]
  },
  {
   "cell_type": "code",
   "execution_count": 31,
   "metadata": {},
   "outputs": [],
   "source": [
    "df = pd.read_csv('./data/monday.csv', delimiter = ';')"
   ]
  },
  {
   "cell_type": "code",
   "execution_count": 32,
   "metadata": {},
   "outputs": [
    {
     "data": {
      "text/html": [
       "<div>\n",
       "<style scoped>\n",
       "    .dataframe tbody tr th:only-of-type {\n",
       "        vertical-align: middle;\n",
       "    }\n",
       "\n",
       "    .dataframe tbody tr th {\n",
       "        vertical-align: top;\n",
       "    }\n",
       "\n",
       "    .dataframe thead th {\n",
       "        text-align: right;\n",
       "    }\n",
       "</style>\n",
       "<table border=\"1\" class=\"dataframe\">\n",
       "  <thead>\n",
       "    <tr style=\"text-align: right;\">\n",
       "      <th></th>\n",
       "      <th>timestamp</th>\n",
       "      <th>customer_no</th>\n",
       "      <th>location</th>\n",
       "    </tr>\n",
       "  </thead>\n",
       "  <tbody>\n",
       "    <tr>\n",
       "      <th>0</th>\n",
       "      <td>2019-09-02 07:03:00</td>\n",
       "      <td>1</td>\n",
       "      <td>dairy</td>\n",
       "    </tr>\n",
       "    <tr>\n",
       "      <th>1</th>\n",
       "      <td>2019-09-02 07:03:00</td>\n",
       "      <td>2</td>\n",
       "      <td>dairy</td>\n",
       "    </tr>\n",
       "    <tr>\n",
       "      <th>2</th>\n",
       "      <td>2019-09-02 07:04:00</td>\n",
       "      <td>3</td>\n",
       "      <td>dairy</td>\n",
       "    </tr>\n",
       "    <tr>\n",
       "      <th>3</th>\n",
       "      <td>2019-09-02 07:04:00</td>\n",
       "      <td>4</td>\n",
       "      <td>dairy</td>\n",
       "    </tr>\n",
       "    <tr>\n",
       "      <th>4</th>\n",
       "      <td>2019-09-02 07:04:00</td>\n",
       "      <td>5</td>\n",
       "      <td>spices</td>\n",
       "    </tr>\n",
       "  </tbody>\n",
       "</table>\n",
       "</div>"
      ],
      "text/plain": [
       "             timestamp  customer_no location\n",
       "0  2019-09-02 07:03:00            1    dairy\n",
       "1  2019-09-02 07:03:00            2    dairy\n",
       "2  2019-09-02 07:04:00            3    dairy\n",
       "3  2019-09-02 07:04:00            4    dairy\n",
       "4  2019-09-02 07:04:00            5   spices"
      ]
     },
     "execution_count": 32,
     "metadata": {},
     "output_type": "execute_result"
    }
   ],
   "source": [
    "df.head()"
   ]
  },
  {
   "cell_type": "code",
   "execution_count": 33,
   "metadata": {},
   "outputs": [],
   "source": [
    "x = df.groupby('location')[['customer_no']].count()"
   ]
  },
  {
   "cell_type": "code",
   "execution_count": 34,
   "metadata": {},
   "outputs": [
    {
     "data": {
      "text/html": [
       "<div>\n",
       "<style scoped>\n",
       "    .dataframe tbody tr th:only-of-type {\n",
       "        vertical-align: middle;\n",
       "    }\n",
       "\n",
       "    .dataframe tbody tr th {\n",
       "        vertical-align: top;\n",
       "    }\n",
       "\n",
       "    .dataframe thead th {\n",
       "        text-align: right;\n",
       "    }\n",
       "</style>\n",
       "<table border=\"1\" class=\"dataframe\">\n",
       "  <thead>\n",
       "    <tr style=\"text-align: right;\">\n",
       "      <th></th>\n",
       "      <th>customer_no</th>\n",
       "    </tr>\n",
       "    <tr>\n",
       "      <th>location</th>\n",
       "      <th></th>\n",
       "    </tr>\n",
       "  </thead>\n",
       "  <tbody>\n",
       "    <tr>\n",
       "      <th>checkout</th>\n",
       "      <td>1437</td>\n",
       "    </tr>\n",
       "    <tr>\n",
       "      <th>dairy</th>\n",
       "      <td>895</td>\n",
       "    </tr>\n",
       "    <tr>\n",
       "      <th>drinks</th>\n",
       "      <td>797</td>\n",
       "    </tr>\n",
       "    <tr>\n",
       "      <th>fruit</th>\n",
       "      <td>1005</td>\n",
       "    </tr>\n",
       "    <tr>\n",
       "      <th>spices</th>\n",
       "      <td>750</td>\n",
       "    </tr>\n",
       "  </tbody>\n",
       "</table>\n",
       "</div>"
      ],
      "text/plain": [
       "          customer_no\n",
       "location             \n",
       "checkout         1437\n",
       "dairy             895\n",
       "drinks            797\n",
       "fruit            1005\n",
       "spices            750"
      ]
     },
     "execution_count": 34,
     "metadata": {},
     "output_type": "execute_result"
    }
   ],
   "source": [
    "x"
   ]
  },
  {
   "cell_type": "code",
   "execution_count": 37,
   "metadata": {},
   "outputs": [
    {
     "data": {
      "text/plain": [
       "<matplotlib.axes._subplots.AxesSubplot at 0x7fd95ca8f760>"
      ]
     },
     "execution_count": 37,
     "metadata": {},
     "output_type": "execute_result"
    },
    {
     "data": {
      "image/png": "[encoded data removed]",
      "text/plain": [
       "<Figure size 864x504 with 1 Axes>"
      ]
     },
     "metadata": {},
     "output_type": "display_data"
    }
   ],
   "source": [
    "sns.countplot(x = 'location', data =df, palette = 'Set3')"
   ]
  },
  {
   "cell_type": "code",
   "execution_count": 45,
   "metadata": {},
   "outputs": [
    {
     "data": {
      "text/plain": [
       "0      2019-09-02 07:03:00\n",
       "1      2019-09-02 07:03:00\n",
       "2      2019-09-02 07:04:00\n",
       "3      2019-09-02 07:04:00\n",
       "4      2019-09-02 07:04:00\n",
       "               ...        \n",
       "4879   2019-09-02 21:49:00\n",
       "4880   2019-09-02 21:49:00\n",
       "4881   2019-09-02 21:49:00\n",
       "4882   2019-09-02 21:50:00\n",
       "4883   2019-09-02 21:50:00\n",
       "Name: timestamp, Length: 4884, dtype: datetime64[ns]"
      ]
     },
     "execution_count": 45,
     "metadata": {},
     "output_type": "execute_result"
    }
   ],
   "source": [
    "df['timestamp']=pd.to_datetime(df['timestamp'])\n",
    "df['timestamp']"
   ]
  },
  {
   "cell_type": "code",
   "execution_count": 51,
   "metadata": {},
   "outputs": [],
   "source": [
    "y = df.groupby(['location',pd.Grouper(key = 'timestamp',freq='1H')])"
   ]
  },
  {
   "cell_type": "code",
   "execution_count": 63,
   "metadata": {},
   "outputs": [],
   "source": [
    "y_new = y.count().unstack()"
   ]
  },
  {
   "cell_type": "code",
   "execution_count": 64,
   "metadata": {},
   "outputs": [
    {
     "data": {
      "text/html": [
       "<div>\n",
       "<style scoped>\n",
       "    .dataframe tbody tr th:only-of-type {\n",
       "        vertical-align: middle;\n",
       "    }\n",
       "\n",
       "    .dataframe tbody tr th {\n",
       "        vertical-align: top;\n",
       "    }\n",
       "\n",
       "    .dataframe thead tr th {\n",
       "        text-align: left;\n",
       "    }\n",
       "\n",
       "    .dataframe thead tr:last-of-type th {\n",
       "        text-align: right;\n",
       "    }\n",
       "</style>\n",
       "<table border=\"1\" class=\"dataframe\">\n",
       "  <thead>\n",
       "    <tr>\n",
       "      <th></th>\n",
       "      <th colspan=\"15\" halign=\"left\">customer_no</th>\n",
       "    </tr>\n",
       "    <tr>\n",
       "      <th>timestamp</th>\n",
       "      <th>2019-09-02 07:00:00</th>\n",
       "      <th>2019-09-02 08:00:00</th>\n",
       "      <th>2019-09-02 09:00:00</th>\n",
       "      <th>2019-09-02 10:00:00</th>\n",
       "      <th>2019-09-02 11:00:00</th>\n",
       "      <th>2019-09-02 12:00:00</th>\n",
       "      <th>2019-09-02 13:00:00</th>\n",
       "      <th>2019-09-02 14:00:00</th>\n",
       "      <th>2019-09-02 15:00:00</th>\n",
       "      <th>2019-09-02 16:00:00</th>\n",
       "      <th>2019-09-02 17:00:00</th>\n",
       "      <th>2019-09-02 18:00:00</th>\n",
       "      <th>2019-09-02 19:00:00</th>\n",
       "      <th>2019-09-02 20:00:00</th>\n",
       "      <th>2019-09-02 21:00:00</th>\n",
       "    </tr>\n",
       "    <tr>\n",
       "      <th>location</th>\n",
       "      <th></th>\n",
       "      <th></th>\n",
       "      <th></th>\n",
       "      <th></th>\n",
       "      <th></th>\n",
       "      <th></th>\n",
       "      <th></th>\n",
       "      <th></th>\n",
       "      <th></th>\n",
       "      <th></th>\n",
       "      <th></th>\n",
       "      <th></th>\n",
       "      <th></th>\n",
       "      <th></th>\n",
       "      <th></th>\n",
       "    </tr>\n",
       "  </thead>\n",
       "  <tbody>\n",
       "    <tr>\n",
       "      <th>checkout</th>\n",
       "      <td>92</td>\n",
       "      <td>112</td>\n",
       "      <td>85</td>\n",
       "      <td>90</td>\n",
       "      <td>55</td>\n",
       "      <td>73</td>\n",
       "      <td>120</td>\n",
       "      <td>90</td>\n",
       "      <td>94</td>\n",
       "      <td>86</td>\n",
       "      <td>122</td>\n",
       "      <td>128</td>\n",
       "      <td>129</td>\n",
       "      <td>109</td>\n",
       "      <td>52</td>\n",
       "    </tr>\n",
       "    <tr>\n",
       "      <th>dairy</th>\n",
       "      <td>59</td>\n",
       "      <td>68</td>\n",
       "      <td>50</td>\n",
       "      <td>58</td>\n",
       "      <td>36</td>\n",
       "      <td>55</td>\n",
       "      <td>76</td>\n",
       "      <td>58</td>\n",
       "      <td>67</td>\n",
       "      <td>49</td>\n",
       "      <td>79</td>\n",
       "      <td>87</td>\n",
       "      <td>64</td>\n",
       "      <td>67</td>\n",
       "      <td>22</td>\n",
       "    </tr>\n",
       "    <tr>\n",
       "      <th>drinks</th>\n",
       "      <td>60</td>\n",
       "      <td>65</td>\n",
       "      <td>57</td>\n",
       "      <td>35</td>\n",
       "      <td>24</td>\n",
       "      <td>37</td>\n",
       "      <td>50</td>\n",
       "      <td>43</td>\n",
       "      <td>48</td>\n",
       "      <td>54</td>\n",
       "      <td>69</td>\n",
       "      <td>81</td>\n",
       "      <td>65</td>\n",
       "      <td>81</td>\n",
       "      <td>28</td>\n",
       "    </tr>\n",
       "    <tr>\n",
       "      <th>fruit</th>\n",
       "      <td>54</td>\n",
       "      <td>68</td>\n",
       "      <td>76</td>\n",
       "      <td>47</td>\n",
       "      <td>41</td>\n",
       "      <td>54</td>\n",
       "      <td>95</td>\n",
       "      <td>64</td>\n",
       "      <td>79</td>\n",
       "      <td>66</td>\n",
       "      <td>90</td>\n",
       "      <td>83</td>\n",
       "      <td>87</td>\n",
       "      <td>68</td>\n",
       "      <td>33</td>\n",
       "    </tr>\n",
       "    <tr>\n",
       "      <th>spices</th>\n",
       "      <td>52</td>\n",
       "      <td>51</td>\n",
       "      <td>40</td>\n",
       "      <td>52</td>\n",
       "      <td>33</td>\n",
       "      <td>46</td>\n",
       "      <td>71</td>\n",
       "      <td>50</td>\n",
       "      <td>54</td>\n",
       "      <td>52</td>\n",
       "      <td>50</td>\n",
       "      <td>70</td>\n",
       "      <td>59</td>\n",
       "      <td>52</td>\n",
       "      <td>18</td>\n",
       "    </tr>\n",
       "  </tbody>\n",
       "</table>\n",
       "</div>"
      ],
      "text/plain": [
       "                  customer_no                                          \\\n",
       "timestamp 2019-09-02 07:00:00 2019-09-02 08:00:00 2019-09-02 09:00:00   \n",
       "location                                                                \n",
       "checkout                   92                 112                  85   \n",
       "dairy                      59                  68                  50   \n",
       "drinks                     60                  65                  57   \n",
       "fruit                      54                  68                  76   \n",
       "spices                     52                  51                  40   \n",
       "\n",
       "                                                                       \\\n",
       "timestamp 2019-09-02 10:00:00 2019-09-02 11:00:00 2019-09-02 12:00:00   \n",
       "location                                                                \n",
       "checkout                   90                  55                  73   \n",
       "dairy                      58                  36                  55   \n",
       "drinks                     35                  24                  37   \n",
       "fruit                      47                  41                  54   \n",
       "spices                     52                  33                  46   \n",
       "\n",
       "                                                                       \\\n",
       "timestamp 2019-09-02 13:00:00 2019-09-02 14:00:00 2019-09-02 15:00:00   \n",
       "location                                                                \n",
       "checkout                  120                  90                  94   \n",
       "dairy                      76                  58                  67   \n",
       "drinks                     50                  43                  48   \n",
       "fruit                      95                  64                  79   \n",
       "spices                     71                  50                  54   \n",
       "\n",
       "                                                                       \\\n",
       "timestamp 2019-09-02 16:00:00 2019-09-02 17:00:00 2019-09-02 18:00:00   \n",
       "location                                                                \n",
       "checkout                   86                 122                 128   \n",
       "dairy                      49                  79                  87   \n",
       "drinks                     54                  69                  81   \n",
       "fruit                      66                  90                  83   \n",
       "spices                     52                  50                  70   \n",
       "\n",
       "                                                                       \n",
       "timestamp 2019-09-02 19:00:00 2019-09-02 20:00:00 2019-09-02 21:00:00  \n",
       "location                                                               \n",
       "checkout                  129                 109                  52  \n",
       "dairy                      64                  67                  22  \n",
       "drinks                     65                  81                  28  \n",
       "fruit                      87                  68                  33  \n",
       "spices                     59                  52                  18  "
      ]
     },
     "execution_count": 64,
     "metadata": {},
     "output_type": "execute_result"
    }
   ],
   "source": [
    "y_new"
   ]
  },
  {
   "cell_type": "code",
   "execution_count": 60,
   "metadata": {},
   "outputs": [],
   "source": [
    "#?"
   ]
  },
  {
   "cell_type": "markdown",
   "metadata": {},
   "source": [
    "### Display the number of customers at checkout over time"
   ]
  },
  {
   "cell_type": "code",
   "execution_count": 69,
   "metadata": {},
   "outputs": [
    {
     "data": {
      "text/plain": [
       "<matplotlib.axes._subplots.AxesSubplot at 0x7fd959f3d790>"
      ]
     },
     "execution_count": 69,
     "metadata": {},
     "output_type": "execute_result"
    },
    {
     "data": {
      "image/png": "[encoded data removed]",
      "text/plain": [
       "<Figure size 864x504 with 1 Axes>"
      ]
     },
     "metadata": {},
     "output_type": "display_data"
    }
   ],
   "source": [
    "row = y_new.iloc[0]\n",
    "row.plot(kind='line')"
   ]
  },
  {
   "cell_type": "markdown",
   "metadata": {},
   "source": [
    "### Calculate the time each customer spent in the market"
   ]
  },
  {
   "cell_type": "code",
   "execution_count": 87,
   "metadata": {},
   "outputs": [],
   "source": [
    "difference=df.groupby('customer_no')[['timestamp']].agg(lambda x: x.max() - x.min())\n"
   ]
  },
  {
   "cell_type": "code",
   "execution_count": 88,
   "metadata": {},
   "outputs": [
    {
     "data": {
      "text/html": [
       "<div>\n",
       "<style scoped>\n",
       "    .dataframe tbody tr th:only-of-type {\n",
       "        vertical-align: middle;\n",
       "    }\n",
       "\n",
       "    .dataframe tbody tr th {\n",
       "        vertical-align: top;\n",
       "    }\n",
       "\n",
       "    .dataframe thead th {\n",
       "        text-align: right;\n",
       "    }\n",
       "</style>\n",
       "<table border=\"1\" class=\"dataframe\">\n",
       "  <thead>\n",
       "    <tr style=\"text-align: right;\">\n",
       "      <th></th>\n",
       "      <th>timestamp</th>\n",
       "    </tr>\n",
       "    <tr>\n",
       "      <th>customer_no</th>\n",
       "      <th></th>\n",
       "    </tr>\n",
       "  </thead>\n",
       "  <tbody>\n",
       "    <tr>\n",
       "      <th>1</th>\n",
       "      <td>00:02:00</td>\n",
       "    </tr>\n",
       "    <tr>\n",
       "      <th>2</th>\n",
       "      <td>00:03:00</td>\n",
       "    </tr>\n",
       "    <tr>\n",
       "      <th>3</th>\n",
       "      <td>00:02:00</td>\n",
       "    </tr>\n",
       "    <tr>\n",
       "      <th>4</th>\n",
       "      <td>00:04:00</td>\n",
       "    </tr>\n",
       "    <tr>\n",
       "      <th>5</th>\n",
       "      <td>00:01:00</td>\n",
       "    </tr>\n",
       "    <tr>\n",
       "      <th>...</th>\n",
       "      <td>...</td>\n",
       "    </tr>\n",
       "    <tr>\n",
       "      <th>1443</th>\n",
       "      <td>00:01:00</td>\n",
       "    </tr>\n",
       "    <tr>\n",
       "      <th>1444</th>\n",
       "      <td>00:01:00</td>\n",
       "    </tr>\n",
       "    <tr>\n",
       "      <th>1445</th>\n",
       "      <td>00:00:00</td>\n",
       "    </tr>\n",
       "    <tr>\n",
       "      <th>1446</th>\n",
       "      <td>00:00:00</td>\n",
       "    </tr>\n",
       "    <tr>\n",
       "      <th>1447</th>\n",
       "      <td>00:00:00</td>\n",
       "    </tr>\n",
       "  </tbody>\n",
       "</table>\n",
       "<p>1447 rows × 1 columns</p>\n",
       "</div>"
      ],
      "text/plain": [
       "            timestamp\n",
       "customer_no          \n",
       "1            00:02:00\n",
       "2            00:03:00\n",
       "3            00:02:00\n",
       "4            00:04:00\n",
       "5            00:01:00\n",
       "...               ...\n",
       "1443         00:01:00\n",
       "1444         00:01:00\n",
       "1445         00:00:00\n",
       "1446         00:00:00\n",
       "1447         00:00:00\n",
       "\n",
       "[1447 rows x 1 columns]"
      ]
     },
     "execution_count": 88,
     "metadata": {},
     "output_type": "execute_result"
    }
   ],
   "source": [
    "difference"
   ]
  },
  {
   "cell_type": "markdown",
   "metadata": {},
   "source": [
    "### Calculate the total number of customers in the supermarket over time."
   ]
  },
  {
   "cell_type": "code",
   "execution_count": null,
   "metadata": {},
   "outputs": [],
   "source": []
  },
  {
   "cell_type": "code",
   "execution_count": null,
   "metadata": {},
   "outputs": [],
   "source": []
  }
 ],
 "metadata": {
  "kernelspec": {
   "display_name": "Python 3",
   "language": "python",
   "name": "python3"
  },
  "language_info": {
   "codemirror_mode": {
    "name": "ipython",
    "version": 3
   },
   "file_extension": ".py",
   "mimetype": "text/x-python",
   "name": "python",
   "nbconvert_exporter": "python",
   "pygments_lexer": "ipython3",
   "version": "3.8.3"
  }
 },
 "nbformat": 4,
 "nbformat_minor": 4
}
