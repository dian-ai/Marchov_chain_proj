{
 "cells": [
  {
   "cell_type": "code",
   "execution_count": 1,
   "metadata": {},
   "outputs": [],
   "source": [
    "import pandas as pd\n",
    "import numpy as np\n",
    "import os\n",
    "import cv2\n",
    "import glob\n",
    "import imageio\n",
    "import numpy as np\n",
    "from customer_class import Customer\n",
    "from matplotlib import pyplot as plt"
   ]
  },
  {
   "cell_type": "code",
   "execution_count": 2,
   "metadata": {},
   "outputs": [
    {
     "data": {
      "text/html": [
       "<div>\n",
       "<style scoped>\n",
       "    .dataframe tbody tr th:only-of-type {\n",
       "        vertical-align: middle;\n",
       "    }\n",
       "\n",
       "    .dataframe tbody tr th {\n",
       "        vertical-align: top;\n",
       "    }\n",
       "\n",
       "    .dataframe thead th {\n",
       "        text-align: right;\n",
       "    }\n",
       "</style>\n",
       "<table border=\"1\" class=\"dataframe\">\n",
       "  <thead>\n",
       "    <tr style=\"text-align: right;\">\n",
       "      <th></th>\n",
       "      <th>timestamp</th>\n",
       "      <th>customer_no</th>\n",
       "      <th>location</th>\n",
       "    </tr>\n",
       "  </thead>\n",
       "  <tbody>\n",
       "    <tr>\n",
       "      <th>0</th>\n",
       "      <td>2019-09-02 07:03:00</td>\n",
       "      <td>1_monday</td>\n",
       "      <td>dairy</td>\n",
       "    </tr>\n",
       "    <tr>\n",
       "      <th>1</th>\n",
       "      <td>2019-09-02 07:03:00</td>\n",
       "      <td>2_monday</td>\n",
       "      <td>dairy</td>\n",
       "    </tr>\n",
       "    <tr>\n",
       "      <th>2</th>\n",
       "      <td>2019-09-02 07:04:00</td>\n",
       "      <td>3_monday</td>\n",
       "      <td>dairy</td>\n",
       "    </tr>\n",
       "    <tr>\n",
       "      <th>3</th>\n",
       "      <td>2019-09-02 07:04:00</td>\n",
       "      <td>4_monday</td>\n",
       "      <td>dairy</td>\n",
       "    </tr>\n",
       "    <tr>\n",
       "      <th>4</th>\n",
       "      <td>2019-09-02 07:04:00</td>\n",
       "      <td>5_monday</td>\n",
       "      <td>spices</td>\n",
       "    </tr>\n",
       "  </tbody>\n",
       "</table>\n",
       "</div>"
      ],
      "text/plain": [
       "             timestamp customer_no location\n",
       "0  2019-09-02 07:03:00    1_monday    dairy\n",
       "1  2019-09-02 07:03:00    2_monday    dairy\n",
       "2  2019-09-02 07:04:00    3_monday    dairy\n",
       "3  2019-09-02 07:04:00    4_monday    dairy\n",
       "4  2019-09-02 07:04:00    5_monday   spices"
      ]
     },
     "execution_count": 2,
     "metadata": {},
     "output_type": "execute_result"
    }
   ],
   "source": [
    "df1 = pd.read_csv('Data/1_monday.csv',sep=';')\n",
    "# df1['monday']='monday'\n",
    "df1['new_customer_no'] = df1['customer_no'].astype(str) +'_'+ 'monday'\n",
    "\n",
    "df2 = pd.read_csv('Data/2_tuesday.csv',sep=';')\n",
    "# df2['tuesday']='tuesday'\n",
    "df2['new_customer_no'] = df2['customer_no'].astype(str) +'_'+ 'tuesday'\n",
    "\n",
    "df3 = pd.read_csv('Data/3_wednesday.csv',sep=';')\n",
    "# df3['wednesday']='wednesday'\n",
    "df3['new_customer_no'] = df3['customer_no'].astype(str) +'_'+ 'wednesday'\n",
    "\n",
    "df4 = pd.read_csv('Data/4_thursday.csv',sep=';')\n",
    "# df4['thursday']='thursday'\n",
    "df4['new_customer_no'] = df4['customer_no'].astype(str) +'_'+ 'thursday'\n",
    "\n",
    "df5 = pd.read_csv('Data/5_friday.csv',sep=';')\n",
    "# df5['friday']='friday'\n",
    "df5['new_customer_no'] = df5['customer_no'].astype(str) +'_'+ 'friday'\n",
    "\n",
    "df = pd.concat([df1,df2,df3,df4,df5], axis=0)\n",
    "df = df.drop('customer_no',axis=1)\n",
    "df = df[['timestamp','new_customer_no','location']]\n",
    "df.rename(columns={'new_customer_no': 'customer_no'}, inplace=True)\n",
    "df100 = df.copy()\n",
    "df.head(5)"
   ]
  },
  {
   "cell_type": "code",
   "execution_count": null,
   "metadata": {},
   "outputs": [],
   "source": []
  },
  {
   "cell_type": "code",
   "execution_count": 3,
   "metadata": {},
   "outputs": [],
   "source": [
    "df['timestamp'] = pd.to_datetime(df['timestamp'])"
   ]
  },
  {
   "cell_type": "code",
   "execution_count": 4,
   "metadata": {},
   "outputs": [],
   "source": [
    "# df_new = df.groupby(['customer_no','location'])[['timestamp']].min()\n",
    "# df_new.reset_index(level=0, inplace=True)\n",
    "# df_new.reset_index(level=0, inplace=True)\n",
    "\n",
    "# df_new_1=df_new[df_new['customer_no']=='1_monday']\n",
    "# df_new_1.sort_values(by='timestamp')\n",
    "# df_new_1"
   ]
  },
  {
   "cell_type": "code",
   "execution_count": 5,
   "metadata": {},
   "outputs": [
    {
     "data": {
      "text/html": [
       "<div>\n",
       "<style scoped>\n",
       "    .dataframe tbody tr th:only-of-type {\n",
       "        vertical-align: middle;\n",
       "    }\n",
       "\n",
       "    .dataframe tbody tr th {\n",
       "        vertical-align: top;\n",
       "    }\n",
       "\n",
       "    .dataframe thead th {\n",
       "        text-align: right;\n",
       "    }\n",
       "</style>\n",
       "<table border=\"1\" class=\"dataframe\">\n",
       "  <thead>\n",
       "    <tr style=\"text-align: right;\">\n",
       "      <th></th>\n",
       "      <th>customer_no</th>\n",
       "      <th>timestamp</th>\n",
       "    </tr>\n",
       "  </thead>\n",
       "  <tbody>\n",
       "    <tr>\n",
       "      <th>0</th>\n",
       "      <td>1000_friday</td>\n",
       "      <td>2019-09-06 17:19:00</td>\n",
       "    </tr>\n",
       "    <tr>\n",
       "      <th>1</th>\n",
       "      <td>1000_monday</td>\n",
       "      <td>2019-09-02 17:44:00</td>\n",
       "    </tr>\n",
       "    <tr>\n",
       "      <th>2</th>\n",
       "      <td>1000_thursday</td>\n",
       "      <td>2019-09-05 17:23:00</td>\n",
       "    </tr>\n",
       "    <tr>\n",
       "      <th>3</th>\n",
       "      <td>1000_tuesday</td>\n",
       "      <td>2019-09-03 17:53:00</td>\n",
       "    </tr>\n",
       "    <tr>\n",
       "      <th>4</th>\n",
       "      <td>1000_wednesday</td>\n",
       "      <td>2019-09-04 16:53:00</td>\n",
       "    </tr>\n",
       "  </tbody>\n",
       "</table>\n",
       "</div>"
      ],
      "text/plain": [
       "      customer_no           timestamp\n",
       "0     1000_friday 2019-09-06 17:19:00\n",
       "1     1000_monday 2019-09-02 17:44:00\n",
       "2   1000_thursday 2019-09-05 17:23:00\n",
       "3    1000_tuesday 2019-09-03 17:53:00\n",
       "4  1000_wednesday 2019-09-04 16:53:00"
      ]
     },
     "execution_count": 5,
     "metadata": {},
     "output_type": "execute_result"
    }
   ],
   "source": [
    "df_new100 = df.groupby(['customer_no'])[['timestamp']].min()\n",
    "df_new100.reset_index(level=0, inplace=True)\n",
    "# df_new100['location'] ='entrance'\n",
    "# df_new100 = df_new[['timestamp','customer_no','location']]\n",
    "df_new100.head(5)"
   ]
  },
  {
   "cell_type": "code",
   "execution_count": 6,
   "metadata": {},
   "outputs": [
    {
     "data": {
      "text/html": [
       "<div>\n",
       "<style scoped>\n",
       "    .dataframe tbody tr th:only-of-type {\n",
       "        vertical-align: middle;\n",
       "    }\n",
       "\n",
       "    .dataframe tbody tr th {\n",
       "        vertical-align: top;\n",
       "    }\n",
       "\n",
       "    .dataframe thead th {\n",
       "        text-align: right;\n",
       "    }\n",
       "</style>\n",
       "<table border=\"1\" class=\"dataframe\">\n",
       "  <thead>\n",
       "    <tr style=\"text-align: right;\">\n",
       "      <th></th>\n",
       "      <th>timestamp</th>\n",
       "      <th>customer_no</th>\n",
       "      <th>location</th>\n",
       "    </tr>\n",
       "  </thead>\n",
       "  <tbody>\n",
       "    <tr>\n",
       "      <th>0</th>\n",
       "      <td>2019-09-02 07:03:00</td>\n",
       "      <td>1_monday</td>\n",
       "      <td>dairy</td>\n",
       "    </tr>\n",
       "    <tr>\n",
       "      <th>1</th>\n",
       "      <td>2019-09-02 07:03:00</td>\n",
       "      <td>2_monday</td>\n",
       "      <td>dairy</td>\n",
       "    </tr>\n",
       "    <tr>\n",
       "      <th>3001</th>\n",
       "      <td>2019-09-02 07:03:00</td>\n",
       "      <td>1_monday</td>\n",
       "      <td>NaN</td>\n",
       "    </tr>\n",
       "    <tr>\n",
       "      <th>3556</th>\n",
       "      <td>2019-09-02 07:03:00</td>\n",
       "      <td>2_monday</td>\n",
       "      <td>NaN</td>\n",
       "    </tr>\n",
       "    <tr>\n",
       "      <th>4111</th>\n",
       "      <td>2019-09-02 07:04:00</td>\n",
       "      <td>3_monday</td>\n",
       "      <td>NaN</td>\n",
       "    </tr>\n",
       "    <tr>\n",
       "      <th>...</th>\n",
       "      <td>...</td>\n",
       "      <td>...</td>\n",
       "      <td>...</td>\n",
       "    </tr>\n",
       "    <tr>\n",
       "      <th>5120</th>\n",
       "      <td>2019-09-06 21:50:00</td>\n",
       "      <td>1500_friday</td>\n",
       "      <td>dairy</td>\n",
       "    </tr>\n",
       "    <tr>\n",
       "      <th>5121</th>\n",
       "      <td>2019-09-06 21:50:00</td>\n",
       "      <td>1507_friday</td>\n",
       "      <td>checkout</td>\n",
       "    </tr>\n",
       "    <tr>\n",
       "      <th>5122</th>\n",
       "      <td>2019-09-06 21:50:00</td>\n",
       "      <td>1508_friday</td>\n",
       "      <td>checkout</td>\n",
       "    </tr>\n",
       "    <tr>\n",
       "      <th>5124</th>\n",
       "      <td>2019-09-06 21:50:00</td>\n",
       "      <td>1510_friday</td>\n",
       "      <td>spices</td>\n",
       "    </tr>\n",
       "    <tr>\n",
       "      <th>2673</th>\n",
       "      <td>2019-09-06 21:50:00</td>\n",
       "      <td>1509_friday</td>\n",
       "      <td>NaN</td>\n",
       "    </tr>\n",
       "  </tbody>\n",
       "</table>\n",
       "<p>32322 rows × 3 columns</p>\n",
       "</div>"
      ],
      "text/plain": [
       "               timestamp  customer_no  location\n",
       "0    2019-09-02 07:03:00     1_monday     dairy\n",
       "1    2019-09-02 07:03:00     2_monday     dairy\n",
       "3001 2019-09-02 07:03:00     1_monday       NaN\n",
       "3556 2019-09-02 07:03:00     2_monday       NaN\n",
       "4111 2019-09-02 07:04:00     3_monday       NaN\n",
       "...                  ...          ...       ...\n",
       "5120 2019-09-06 21:50:00  1500_friday     dairy\n",
       "5121 2019-09-06 21:50:00  1507_friday  checkout\n",
       "5122 2019-09-06 21:50:00  1508_friday  checkout\n",
       "5124 2019-09-06 21:50:00  1510_friday    spices\n",
       "2673 2019-09-06 21:50:00  1509_friday       NaN\n",
       "\n",
       "[32322 rows x 3 columns]"
      ]
     },
     "execution_count": 6,
     "metadata": {},
     "output_type": "execute_result"
    }
   ],
   "source": [
    "df_new = pd.concat([df,df_new100],axis = 0)\n",
    "df_new.sort_values('timestamp')"
   ]
  },
  {
   "cell_type": "code",
   "execution_count": null,
   "metadata": {},
   "outputs": [],
   "source": []
  },
  {
   "cell_type": "code",
   "execution_count": null,
   "metadata": {},
   "outputs": [],
   "source": []
  },
  {
   "cell_type": "code",
   "execution_count": 7,
   "metadata": {},
   "outputs": [],
   "source": [
    "df['timestamp'] = pd.to_datetime(df['timestamp'])"
   ]
  },
  {
   "cell_type": "code",
   "execution_count": 8,
   "metadata": {},
   "outputs": [
    {
     "data": {
      "text/html": [
       "<div>\n",
       "<style scoped>\n",
       "    .dataframe tbody tr th:only-of-type {\n",
       "        vertical-align: middle;\n",
       "    }\n",
       "\n",
       "    .dataframe tbody tr th {\n",
       "        vertical-align: top;\n",
       "    }\n",
       "\n",
       "    .dataframe thead th {\n",
       "        text-align: right;\n",
       "    }\n",
       "</style>\n",
       "<table border=\"1\" class=\"dataframe\">\n",
       "  <thead>\n",
       "    <tr style=\"text-align: right;\">\n",
       "      <th></th>\n",
       "      <th></th>\n",
       "      <th>location</th>\n",
       "    </tr>\n",
       "    <tr>\n",
       "      <th>customer_no</th>\n",
       "      <th>timestamp</th>\n",
       "      <th></th>\n",
       "    </tr>\n",
       "  </thead>\n",
       "  <tbody>\n",
       "    <tr>\n",
       "      <th rowspan=\"2\" valign=\"top\">1000_friday</th>\n",
       "      <th>2019-09-06 17:19:00</th>\n",
       "      <td>fruit</td>\n",
       "    </tr>\n",
       "    <tr>\n",
       "      <th>2019-09-06 17:20:00</th>\n",
       "      <td>checkout</td>\n",
       "    </tr>\n",
       "    <tr>\n",
       "      <th rowspan=\"3\" valign=\"top\">1000_monday</th>\n",
       "      <th>2019-09-02 17:44:00</th>\n",
       "      <td>dairy</td>\n",
       "    </tr>\n",
       "    <tr>\n",
       "      <th>2019-09-02 17:45:00</th>\n",
       "      <td>dairy</td>\n",
       "    </tr>\n",
       "    <tr>\n",
       "      <th>2019-09-02 17:46:00</th>\n",
       "      <td>dairy</td>\n",
       "    </tr>\n",
       "    <tr>\n",
       "      <th>...</th>\n",
       "      <th>...</th>\n",
       "      <td>...</td>\n",
       "    </tr>\n",
       "    <tr>\n",
       "      <th rowspan=\"3\" valign=\"top\">9_tuesday</th>\n",
       "      <th>2019-09-03 07:28:00</th>\n",
       "      <td>dairy</td>\n",
       "    </tr>\n",
       "    <tr>\n",
       "      <th>2019-09-03 07:29:00</th>\n",
       "      <td>dairy</td>\n",
       "    </tr>\n",
       "    <tr>\n",
       "      <th>2019-09-03 07:30:00</th>\n",
       "      <td>checkout</td>\n",
       "    </tr>\n",
       "    <tr>\n",
       "      <th rowspan=\"2\" valign=\"top\">9_wednesday</th>\n",
       "      <th>2019-09-04 07:03:00</th>\n",
       "      <td>spices</td>\n",
       "    </tr>\n",
       "    <tr>\n",
       "      <th>2019-09-04 07:04:00</th>\n",
       "      <td>checkout</td>\n",
       "    </tr>\n",
       "  </tbody>\n",
       "</table>\n",
       "<p>53903 rows × 1 columns</p>\n",
       "</div>"
      ],
      "text/plain": [
       "                                 location\n",
       "customer_no timestamp                    \n",
       "1000_friday 2019-09-06 17:19:00     fruit\n",
       "            2019-09-06 17:20:00  checkout\n",
       "1000_monday 2019-09-02 17:44:00     dairy\n",
       "            2019-09-02 17:45:00     dairy\n",
       "            2019-09-02 17:46:00     dairy\n",
       "...                                   ...\n",
       "9_tuesday   2019-09-03 07:28:00     dairy\n",
       "            2019-09-03 07:29:00     dairy\n",
       "            2019-09-03 07:30:00  checkout\n",
       "9_wednesday 2019-09-04 07:03:00    spices\n",
       "            2019-09-04 07:04:00  checkout\n",
       "\n",
       "[53903 rows x 1 columns]"
      ]
     },
     "execution_count": 8,
     "metadata": {},
     "output_type": "execute_result"
    }
   ],
   "source": [
    "df101 =df100.copy()\n",
    "df101['timestamp'] = pd.to_datetime(df101['timestamp'])\n",
    "df101 = df101.set_index('timestamp')\n",
    "df101 = df101.groupby(['customer_no'])[['location']].resample(rule=\"Min\").asfreq().ffill()\n",
    "df101"
   ]
  },
  {
   "cell_type": "code",
   "execution_count": 9,
   "metadata": {},
   "outputs": [
    {
     "data": {
      "text/html": [
       "<div>\n",
       "<style scoped>\n",
       "    .dataframe tbody tr th:only-of-type {\n",
       "        vertical-align: middle;\n",
       "    }\n",
       "\n",
       "    .dataframe tbody tr th {\n",
       "        vertical-align: top;\n",
       "    }\n",
       "\n",
       "    .dataframe thead th {\n",
       "        text-align: right;\n",
       "    }\n",
       "</style>\n",
       "<table border=\"1\" class=\"dataframe\">\n",
       "  <thead>\n",
       "    <tr style=\"text-align: right;\">\n",
       "      <th></th>\n",
       "      <th></th>\n",
       "      <th>location</th>\n",
       "      <th>before</th>\n",
       "    </tr>\n",
       "    <tr>\n",
       "      <th>customer_no</th>\n",
       "      <th>timestamp</th>\n",
       "      <th></th>\n",
       "      <th></th>\n",
       "    </tr>\n",
       "  </thead>\n",
       "  <tbody>\n",
       "    <tr>\n",
       "      <th rowspan=\"2\" valign=\"top\">1000_friday</th>\n",
       "      <th>2019-09-06 17:19:00</th>\n",
       "      <td>fruit</td>\n",
       "      <td>NaN</td>\n",
       "    </tr>\n",
       "    <tr>\n",
       "      <th>2019-09-06 17:20:00</th>\n",
       "      <td>checkout</td>\n",
       "      <td>fruit</td>\n",
       "    </tr>\n",
       "    <tr>\n",
       "      <th rowspan=\"3\" valign=\"top\">1000_monday</th>\n",
       "      <th>2019-09-02 17:44:00</th>\n",
       "      <td>dairy</td>\n",
       "      <td>checkout</td>\n",
       "    </tr>\n",
       "    <tr>\n",
       "      <th>2019-09-02 17:45:00</th>\n",
       "      <td>dairy</td>\n",
       "      <td>dairy</td>\n",
       "    </tr>\n",
       "    <tr>\n",
       "      <th>2019-09-02 17:46:00</th>\n",
       "      <td>dairy</td>\n",
       "      <td>dairy</td>\n",
       "    </tr>\n",
       "  </tbody>\n",
       "</table>\n",
       "</div>"
      ],
      "text/plain": [
       "                                 location    before\n",
       "customer_no timestamp                              \n",
       "1000_friday 2019-09-06 17:19:00     fruit       NaN\n",
       "            2019-09-06 17:20:00  checkout     fruit\n",
       "1000_monday 2019-09-02 17:44:00     dairy  checkout\n",
       "            2019-09-02 17:45:00     dairy     dairy\n",
       "            2019-09-02 17:46:00     dairy     dairy"
      ]
     },
     "execution_count": 9,
     "metadata": {},
     "output_type": "execute_result"
    }
   ],
   "source": [
    "# g['before'] = g['places'].shift(1)\n",
    "df101['before'] = df101['location'].shift(1)\n",
    "df101.head(5)"
   ]
  },
  {
   "cell_type": "code",
   "execution_count": 10,
   "metadata": {},
   "outputs": [],
   "source": [
    "# df = df[df.line_race != 0]\n",
    "# df101 = df101[df101.before != 'checkout']\n",
    "df102 = df101 \n"
   ]
  },
  {
   "cell_type": "code",
   "execution_count": 11,
   "metadata": {},
   "outputs": [],
   "source": [
    "df101['dummy'] = True"
   ]
  },
  {
   "cell_type": "code",
   "execution_count": 12,
   "metadata": {},
   "outputs": [
    {
     "data": {
      "text/html": [
       "<div>\n",
       "<style scoped>\n",
       "    .dataframe tbody tr th:only-of-type {\n",
       "        vertical-align: middle;\n",
       "    }\n",
       "\n",
       "    .dataframe tbody tr th {\n",
       "        vertical-align: top;\n",
       "    }\n",
       "\n",
       "    .dataframe thead tr th {\n",
       "        text-align: left;\n",
       "    }\n",
       "\n",
       "    .dataframe thead tr:last-of-type th {\n",
       "        text-align: right;\n",
       "    }\n",
       "</style>\n",
       "<table border=\"1\" class=\"dataframe\">\n",
       "  <thead>\n",
       "    <tr>\n",
       "      <th></th>\n",
       "      <th colspan=\"5\" halign=\"left\">dummy</th>\n",
       "    </tr>\n",
       "    <tr>\n",
       "      <th>location</th>\n",
       "      <th>checkout</th>\n",
       "      <th>dairy</th>\n",
       "      <th>drinks</th>\n",
       "      <th>fruit</th>\n",
       "      <th>spices</th>\n",
       "    </tr>\n",
       "    <tr>\n",
       "      <th>before</th>\n",
       "      <th></th>\n",
       "      <th></th>\n",
       "      <th></th>\n",
       "      <th></th>\n",
       "      <th></th>\n",
       "    </tr>\n",
       "  </thead>\n",
       "  <tbody>\n",
       "    <tr>\n",
       "      <th>checkout</th>\n",
       "      <td>NaN</td>\n",
       "      <td>2136.0</td>\n",
       "      <td>1137.0</td>\n",
       "      <td>2798.0</td>\n",
       "      <td>1345.0</td>\n",
       "    </tr>\n",
       "    <tr>\n",
       "      <th>dairy</th>\n",
       "      <td>1825.0</td>\n",
       "      <td>13098.0</td>\n",
       "      <td>1044.0</td>\n",
       "      <td>891.0</td>\n",
       "      <td>916.0</td>\n",
       "    </tr>\n",
       "    <tr>\n",
       "      <th>drinks</th>\n",
       "      <td>2096.0</td>\n",
       "      <td>106.0</td>\n",
       "      <td>5822.0</td>\n",
       "      <td>856.0</td>\n",
       "      <td>846.0</td>\n",
       "    </tr>\n",
       "    <tr>\n",
       "      <th>fruit</th>\n",
       "      <td>2555.0</td>\n",
       "      <td>1221.0</td>\n",
       "      <td>699.0</td>\n",
       "      <td>7587.0</td>\n",
       "      <td>646.0</td>\n",
       "    </tr>\n",
       "    <tr>\n",
       "      <th>spices</th>\n",
       "      <td>941.0</td>\n",
       "      <td>1213.0</td>\n",
       "      <td>1024.0</td>\n",
       "      <td>575.0</td>\n",
       "      <td>2525.0</td>\n",
       "    </tr>\n",
       "  </tbody>\n",
       "</table>\n",
       "</div>"
      ],
      "text/plain": [
       "            dummy                                 \n",
       "location checkout    dairy  drinks   fruit  spices\n",
       "before                                            \n",
       "checkout      NaN   2136.0  1137.0  2798.0  1345.0\n",
       "dairy      1825.0  13098.0  1044.0   891.0   916.0\n",
       "drinks     2096.0    106.0  5822.0   856.0   846.0\n",
       "fruit      2555.0   1221.0   699.0  7587.0   646.0\n",
       "spices      941.0   1213.0  1024.0   575.0  2525.0"
      ]
     },
     "execution_count": 12,
     "metadata": {},
     "output_type": "execute_result"
    }
   ],
   "source": [
    "df101.dropna().groupby(by=['before','location'])[['dummy']].count().unstack()"
   ]
  },
  {
   "cell_type": "code",
   "execution_count": 13,
   "metadata": {},
   "outputs": [
    {
     "data": {
      "text/html": [
       "<div>\n",
       "<style scoped>\n",
       "    .dataframe tbody tr th:only-of-type {\n",
       "        vertical-align: middle;\n",
       "    }\n",
       "\n",
       "    .dataframe tbody tr th {\n",
       "        vertical-align: top;\n",
       "    }\n",
       "\n",
       "    .dataframe thead th {\n",
       "        text-align: right;\n",
       "    }\n",
       "</style>\n",
       "<table border=\"1\" class=\"dataframe\">\n",
       "  <thead>\n",
       "    <tr style=\"text-align: right;\">\n",
       "      <th>location</th>\n",
       "      <th>checkout</th>\n",
       "      <th>dairy</th>\n",
       "      <th>drinks</th>\n",
       "      <th>fruit</th>\n",
       "      <th>spices</th>\n",
       "    </tr>\n",
       "    <tr>\n",
       "      <th>before</th>\n",
       "      <th></th>\n",
       "      <th></th>\n",
       "      <th></th>\n",
       "      <th></th>\n",
       "      <th></th>\n",
       "    </tr>\n",
       "  </thead>\n",
       "  <tbody>\n",
       "    <tr>\n",
       "      <th>checkout</th>\n",
       "      <td>0.000000</td>\n",
       "      <td>0.288026</td>\n",
       "      <td>0.153317</td>\n",
       "      <td>0.377292</td>\n",
       "      <td>0.181365</td>\n",
       "    </tr>\n",
       "    <tr>\n",
       "      <th>dairy</th>\n",
       "      <td>0.102678</td>\n",
       "      <td>0.736919</td>\n",
       "      <td>0.058737</td>\n",
       "      <td>0.050129</td>\n",
       "      <td>0.051536</td>\n",
       "    </tr>\n",
       "    <tr>\n",
       "      <th>drinks</th>\n",
       "      <td>0.215505</td>\n",
       "      <td>0.010899</td>\n",
       "      <td>0.598602</td>\n",
       "      <td>0.088012</td>\n",
       "      <td>0.086983</td>\n",
       "    </tr>\n",
       "    <tr>\n",
       "      <th>fruit</th>\n",
       "      <td>0.201054</td>\n",
       "      <td>0.096081</td>\n",
       "      <td>0.055005</td>\n",
       "      <td>0.597025</td>\n",
       "      <td>0.050834</td>\n",
       "    </tr>\n",
       "    <tr>\n",
       "      <th>spices</th>\n",
       "      <td>0.149888</td>\n",
       "      <td>0.193214</td>\n",
       "      <td>0.163109</td>\n",
       "      <td>0.091590</td>\n",
       "      <td>0.402198</td>\n",
       "    </tr>\n",
       "  </tbody>\n",
       "</table>\n",
       "</div>"
      ],
      "text/plain": [
       "location  checkout     dairy    drinks     fruit    spices\n",
       "before                                                    \n",
       "checkout  0.000000  0.288026  0.153317  0.377292  0.181365\n",
       "dairy     0.102678  0.736919  0.058737  0.050129  0.051536\n",
       "drinks    0.215505  0.010899  0.598602  0.088012  0.086983\n",
       "fruit     0.201054  0.096081  0.055005  0.597025  0.050834\n",
       "spices    0.149888  0.193214  0.163109  0.091590  0.402198"
      ]
     },
     "execution_count": 13,
     "metadata": {},
     "output_type": "execute_result"
    }
   ],
   "source": [
    "df104 = pd.crosstab( df102.before,df102.location, normalize = 0)\n",
    "df104"
   ]
  },
  {
   "cell_type": "code",
   "execution_count": 14,
   "metadata": {},
   "outputs": [
    {
     "data": {
      "text/html": [
       "<div>\n",
       "<style scoped>\n",
       "    .dataframe tbody tr th:only-of-type {\n",
       "        vertical-align: middle;\n",
       "    }\n",
       "\n",
       "    .dataframe tbody tr th {\n",
       "        vertical-align: top;\n",
       "    }\n",
       "\n",
       "    .dataframe thead th {\n",
       "        text-align: right;\n",
       "    }\n",
       "</style>\n",
       "<table border=\"1\" class=\"dataframe\">\n",
       "  <thead>\n",
       "    <tr style=\"text-align: right;\">\n",
       "      <th>location</th>\n",
       "      <th>before</th>\n",
       "      <th>checkout</th>\n",
       "      <th>dairy</th>\n",
       "      <th>drinks</th>\n",
       "      <th>fruit</th>\n",
       "      <th>spices</th>\n",
       "    </tr>\n",
       "  </thead>\n",
       "  <tbody>\n",
       "    <tr>\n",
       "      <th>0</th>\n",
       "      <td>checkout</td>\n",
       "      <td>0.000000</td>\n",
       "      <td>0.288026</td>\n",
       "      <td>0.153317</td>\n",
       "      <td>0.377292</td>\n",
       "      <td>0.181365</td>\n",
       "    </tr>\n",
       "    <tr>\n",
       "      <th>1</th>\n",
       "      <td>dairy</td>\n",
       "      <td>0.102678</td>\n",
       "      <td>0.736919</td>\n",
       "      <td>0.058737</td>\n",
       "      <td>0.050129</td>\n",
       "      <td>0.051536</td>\n",
       "    </tr>\n",
       "    <tr>\n",
       "      <th>2</th>\n",
       "      <td>drinks</td>\n",
       "      <td>0.215505</td>\n",
       "      <td>0.010899</td>\n",
       "      <td>0.598602</td>\n",
       "      <td>0.088012</td>\n",
       "      <td>0.086983</td>\n",
       "    </tr>\n",
       "    <tr>\n",
       "      <th>3</th>\n",
       "      <td>fruit</td>\n",
       "      <td>0.201054</td>\n",
       "      <td>0.096081</td>\n",
       "      <td>0.055005</td>\n",
       "      <td>0.597025</td>\n",
       "      <td>0.050834</td>\n",
       "    </tr>\n",
       "    <tr>\n",
       "      <th>4</th>\n",
       "      <td>spices</td>\n",
       "      <td>0.149888</td>\n",
       "      <td>0.193214</td>\n",
       "      <td>0.163109</td>\n",
       "      <td>0.091590</td>\n",
       "      <td>0.402198</td>\n",
       "    </tr>\n",
       "  </tbody>\n",
       "</table>\n",
       "</div>"
      ],
      "text/plain": [
       "location    before  checkout     dairy    drinks     fruit    spices\n",
       "0         checkout  0.000000  0.288026  0.153317  0.377292  0.181365\n",
       "1            dairy  0.102678  0.736919  0.058737  0.050129  0.051536\n",
       "2           drinks  0.215505  0.010899  0.598602  0.088012  0.086983\n",
       "3            fruit  0.201054  0.096081  0.055005  0.597025  0.050834\n",
       "4           spices  0.149888  0.193214  0.163109  0.091590  0.402198"
      ]
     },
     "execution_count": 14,
     "metadata": {},
     "output_type": "execute_result"
    }
   ],
   "source": [
    "df104.reset_index(level=0, inplace=True)\n",
    "df104"
   ]
  },
  {
   "cell_type": "code",
   "execution_count": 15,
   "metadata": {},
   "outputs": [
    {
     "data": {
      "text/plain": [
       "0.2155048324079786"
      ]
     },
     "execution_count": 15,
     "metadata": {},
     "output_type": "execute_result"
    }
   ],
   "source": [
    "# df104 = df104[['before','checkout','dairy','drinks','fruit','spices']]\n",
    "# df104['location']\n",
    "# df104\n",
    "# df105 = df104.set_index('before')\n",
    "df104.checkout[2]"
   ]
  },
  {
   "cell_type": "code",
   "execution_count": 16,
   "metadata": {},
   "outputs": [
    {
     "data": {
      "text/plain": [
       "array([-0.24248959,  0.6814926 ,  1.43780348, -0.35050536,  0.3544716 ,\n",
       "        0.77056642, -1.49903651, -0.87882849, -0.65330596, -0.92992257,\n",
       "       -0.44669587, -1.03951187,  0.65497681, -1.01690179,  0.32966123,\n",
       "       -0.6826821 ,  1.46707345,  0.09244464, -2.35188752, -0.85471991,\n",
       "        0.60136424,  1.2474311 ,  0.34839787, -1.54580124,  0.50411846,\n",
       "       -1.59918314, -1.66724913,  0.63139132,  1.69290244,  0.20407094,\n",
       "       -1.76476192, -0.29953107,  0.49919652, -0.35442355, -1.15575176,\n",
       "       -0.4901061 ,  0.3008388 , -1.44038565, -0.27515566,  0.09023198,\n",
       "       -1.66894749, -0.75469437, -1.45687734, -0.61253432,  1.7110468 ,\n",
       "       -0.5002749 ,  0.17096448,  0.27521007, -0.03820894, -0.2745552 ,\n",
       "       -0.15965121, -1.00252344,  1.68605879, -0.46291703,  0.37674509,\n",
       "       -0.60077938, -0.49627903,  0.26405776,  0.30626447, -0.36710104,\n",
       "       -0.59198843, -1.710361  , -0.10972623,  0.51062689, -0.82111831,\n",
       "        0.70307771,  0.94834697, -0.26365356, -0.51967381,  0.37215766,\n",
       "        0.21009813, -0.55680894,  0.34463571,  0.50411296,  0.25020177,\n",
       "        1.27144207, -2.70917509,  1.79920199, -0.34916579,  0.86976785,\n",
       "       -0.37893643,  0.26819075,  0.97291844, -0.06789113, -0.72800074,\n",
       "        1.1543647 , -0.48884077, -0.11027161, -0.28635919,  0.24333545,\n",
       "       -0.05606229, -3.21455686, -0.32384007,  0.17340036,  0.09709933,\n",
       "       -0.95850313,  0.13041638, -0.56373653,  0.36298973, -0.79016277])"
      ]
     },
     "execution_count": 16,
     "metadata": {},
     "output_type": "execute_result"
    }
   ],
   "source": [
    "np.ones((3,3))\n",
    "np.random.random((3,3))\n",
    "np.random.normal((3,3))\n",
    "a = np.random.normal(0.0, 1.0, 100)\n",
    "a"
   ]
  },
  {
   "cell_type": "code",
   "execution_count": 17,
   "metadata": {},
   "outputs": [
    {
     "data": {
      "image/png": "[encoded data removed]",
      "text/plain": [
       "<PIL.PngImagePlugin.PngImageFile image mode=RGB size=576x384 at 0x213CD07B550>"
      ]
     },
     "execution_count": 17,
     "metadata": {},
     "output_type": "execute_result"
    }
   ],
   "source": [
    "from PIL import Image\n",
    "import numpy as np\n",
    "\n",
    "im = Image.open('supermarket.png')\n",
    "im"
   ]
  },
  {
   "cell_type": "code",
   "execution_count": 18,
   "metadata": {},
   "outputs": [
    {
     "name": "stdout",
     "output_type": "stream",
     "text": [
      "(384, 576, 3) uint8\n"
     ]
    }
   ],
   "source": [
    "from PIL import Image\n",
    "import numpy as np\n",
    "\n",
    "im = Image.open('supermarket.png')\n",
    "market = np.array(im)\n",
    "print(market.shape, market.dtype)"
   ]
  },
  {
   "cell_type": "code",
   "execution_count": 19,
   "metadata": {},
   "outputs": [
    {
     "data": {
      "image/png": "[encoded data removed]",
      "text/plain": [
       "<PIL.PngImagePlugin.PngImageFile image mode=RGB size=516x288 at 0x213CD076940>"
      ]
     },
     "execution_count": 19,
     "metadata": {},
     "output_type": "execute_result"
    }
   ],
   "source": [
    "from PIL import Image\n",
    "import numpy as np\n",
    "\n",
    "im1= Image.open('tiles.png')\n",
    "im1"
   ]
  },
  {
   "cell_type": "code",
   "execution_count": 20,
   "metadata": {},
   "outputs": [],
   "source": [
    "tiles = np.array(im1)\n",
    "# print(icon.shape, icon.dtype)\n",
    "x = 4 * 32   # 5th column starting from 0\n",
    "y = 1 * 32   # 2nd row\n",
    "apple = tiles[y:y+32, x:x+32]"
   ]
  },
  {
   "cell_type": "code",
   "execution_count": 21,
   "metadata": {},
   "outputs": [
    {
     "data": {
      "image/png": "[encoded data removed]",
      "text/plain": [
       "<PIL.Image.Image image mode=RGB size=576x384 at 0x213CD076F40>"
      ]
     },
     "execution_count": 21,
     "metadata": {},
     "output_type": "execute_result"
    }
   ],
   "source": [
    "tx = 13 * 32\n",
    "ty = 2 * 32\n",
    "market[ty:ty+32, tx:tx+32] = apple\n",
    "im = Image.fromarray(market)\n",
    "im"
   ]
  },
  {
   "cell_type": "code",
   "execution_count": 22,
   "metadata": {},
   "outputs": [
    {
     "data": {
      "image/png": "[encoded data removed]",
      "text/plain": [
       "<PIL.Image.Image image mode=RGB size=576x384 at 0x213CD0DA160>"
      ]
     },
     "execution_count": 22,
     "metadata": {},
     "output_type": "execute_result"
    }
   ],
   "source": [
    "tx = 12 * 32\n",
    "ty = 2 * 32\n",
    "market[ty:ty+32, tx:tx+32] = apple\n",
    "im = Image.fromarray(market)\n",
    "im"
   ]
  },
  {
   "cell_type": "code",
   "execution_count": 23,
   "metadata": {},
   "outputs": [],
   "source": [
    "# !pip install opencv-python"
   ]
  },
  {
   "cell_type": "code",
   "execution_count": 24,
   "metadata": {},
   "outputs": [],
   "source": [
    "c = np.zeros((32 , 32, 3), dtype=np.uint8)\n",
    "# c"
   ]
  },
  {
   "cell_type": "code",
   "execution_count": 25,
   "metadata": {},
   "outputs": [
    {
     "name": "stdout",
     "output_type": "stream",
     "text": [
      "0\n"
     ]
    }
   ],
   "source": [
    "for i in range(1):\n",
    "    print(i)"
   ]
  },
  {
   "cell_type": "code",
   "execution_count": 82,
   "metadata": {},
   "outputs": [
    {
     "name": "stdout",
     "output_type": "stream",
     "text": [
      "[0 1]\n",
      "[0 1]\n",
      "2\n"
     ]
    }
   ],
   "source": [
    "colors = [0,1,2,3]\n",
    "new_color = np.random.choice(colors,2)\n",
    "print(new_color)\n",
    "unique_colors = np.unique(new_color)\n",
    "print(unique_colors)\n",
    "nb_colors_to_change = len(unique_colors)\n",
    "print(nb_colors_to_change)"
   ]
  },
  {
   "cell_type": "code",
   "execution_count": 361,
   "metadata": {},
   "outputs": [
    {
     "name": "stdout",
     "output_type": "stream",
     "text": [
      "new color_comb is: [1 2]\n",
      "unique color: [1 2]\n",
      "nb_color_to_change 2\n",
      "1\n",
      "2\n"
     ]
    },
    {
     "data": {
      "text/plain": [
       "<matplotlib.image.AxesImage at 0x213fcd868b0>"
      ]
     },
     "execution_count": 361,
     "metadata": {},
     "output_type": "execute_result"
    },
    {
     "data": {
      "image/png": "[encoded data removed]",
      "text/plain": [
       "<Figure size 432x288 with 1 Axes>"
      ]
     },
     "metadata": {
      "needs_background": "light"
     },
     "output_type": "display_data"
    }
   ],
   "source": [
    "\n",
    "import cv2\n",
    "import matplotlib.pyplot as plt\n",
    "frame = cv2.imread('./images/market.png')\n",
    "\n",
    "colors = [0,1,2]\n",
    "\n",
    "new_color = np.random.choice(colors,2)\n",
    "print(f'new color_comb is: {new_color}')\n",
    "\n",
    "unique_colors = np.unique(new_color)\n",
    "print(f'unique color: {unique_colors}')\n",
    "\n",
    "nb_colors_to_change = len(unique_colors)\n",
    "print(f'nb_color_to_change {nb_colors_to_change}')\n",
    "\n",
    "for i in range(nb_colors_to_change):\n",
    "    id \n",
    "    frame[550:640, 730:820, unique_colors[i]] = 0\n",
    "    print (unique_colors[i])\n",
    "\n",
    "plt.imshow(frame)"
   ]
  },
  {
   "cell_type": "code",
   "execution_count": 294,
   "metadata": {},
   "outputs": [
    {
     "data": {
      "text/plain": [
       "<matplotlib.image.AxesImage at 0x213f0dd85b0>"
      ]
     },
     "execution_count": 294,
     "metadata": {},
     "output_type": "execute_result"
    },
    {
     "data": {
      "image/png": "[encoded data removed]",
      "text/plain": [
       "<Figure size 432x288 with 1 Axes>"
      ]
     },
     "metadata": {
      "needs_background": "light"
     },
     "output_type": "display_data"
    }
   ],
   "source": [
    "frame[550:640, 730:820, 0] = 0\n",
    "plt.imshow(frame)"
   ]
  },
  {
   "cell_type": "code",
   "execution_count": 256,
   "metadata": {},
   "outputs": [
    {
     "data": {
      "text/plain": [
       "<matplotlib.image.AxesImage at 0x213e921c640>"
      ]
     },
     "execution_count": 256,
     "metadata": {},
     "output_type": "execute_result"
    },
    {
     "data": {
      "image/png": "[encoded data removed]",
      "text/plain": [
       "<Figure size 432x288 with 1 Axes>"
      ]
     },
     "metadata": {
      "needs_background": "light"
     },
     "output_type": "display_data"
    }
   ],
   "source": [
    "frame[550:640, 730:820, 2] = 0\n",
    "plt.imshow(frame)"
   ]
  },
  {
   "cell_type": "code",
   "execution_count": 264,
   "metadata": {},
   "outputs": [],
   "source": [
    "for i in range(0):\n",
    "    print(i)"
   ]
  },
  {
   "cell_type": "code",
   "execution_count": null,
   "metadata": {},
   "outputs": [],
   "source": []
  },
  {
   "cell_type": "code",
   "execution_count": 30,
   "metadata": {},
   "outputs": [
    {
     "data": {
      "text/plain": [
       "array([0, 1])"
      ]
     },
     "execution_count": 30,
     "metadata": {},
     "output_type": "execute_result"
    }
   ],
   "source": [
    "unique_colors = np.unique(new_color)\n",
    "unique_colors"
   ]
  },
  {
   "cell_type": "code",
   "execution_count": null,
   "metadata": {},
   "outputs": [],
   "source": []
  },
  {
   "cell_type": "code",
   "execution_count": null,
   "metadata": {},
   "outputs": [],
   "source": []
  },
  {
   "cell_type": "code",
   "execution_count": null,
   "metadata": {},
   "outputs": [],
   "source": []
  },
  {
   "cell_type": "code",
   "execution_count": 31,
   "metadata": {},
   "outputs": [
    {
     "data": {
      "text/plain": [
       "2"
      ]
     },
     "execution_count": 31,
     "metadata": {},
     "output_type": "execute_result"
    }
   ],
   "source": [
    "nb_colors_to_change = len(unique_colors)\n",
    "nb_colors_to_change"
   ]
  }
 ],
 "metadata": {
  "kernelspec": {
   "display_name": "Python 3",
   "language": "python",
   "name": "python3"
  },
  "language_info": {
   "codemirror_mode": {
    "name": "ipython",
    "version": 3
   },
   "file_extension": ".py",
   "mimetype": "text/x-python",
   "name": "python",
   "nbconvert_exporter": "python",
   "pygments_lexer": "ipython3",
   "version": "3.8.3"
  }
 },
 "nbformat": 4,
 "nbformat_minor": 4
}
