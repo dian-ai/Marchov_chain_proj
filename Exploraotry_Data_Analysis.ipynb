{
 "cells": [
  {
   "cell_type": "code",
   "execution_count": 1,
   "metadata": {},
   "outputs": [],
   "source": [
    "import pandas as pd\n",
    "import numpy as np\n",
    "import seaborn as sns\n",
    "import matplotlib.pyplot as plt"
   ]
  },
  {
   "cell_type": "code",
   "execution_count": 2,
   "metadata": {
    "scrolled": true
   },
   "outputs": [
    {
     "data": {
      "text/html": [
       "<div>\n",
       "<style scoped>\n",
       "    .dataframe tbody tr th:only-of-type {\n",
       "        vertical-align: middle;\n",
       "    }\n",
       "\n",
       "    .dataframe tbody tr th {\n",
       "        vertical-align: top;\n",
       "    }\n",
       "\n",
       "    .dataframe thead th {\n",
       "        text-align: right;\n",
       "    }\n",
       "</style>\n",
       "<table border=\"1\" class=\"dataframe\">\n",
       "  <thead>\n",
       "    <tr style=\"text-align: right;\">\n",
       "      <th></th>\n",
       "      <th>timestamp</th>\n",
       "      <th>customer_no</th>\n",
       "      <th>location</th>\n",
       "    </tr>\n",
       "  </thead>\n",
       "  <tbody>\n",
       "    <tr>\n",
       "      <th>0</th>\n",
       "      <td>2019-09-02 07:03:00</td>\n",
       "      <td>1</td>\n",
       "      <td>dairy</td>\n",
       "    </tr>\n",
       "    <tr>\n",
       "      <th>1</th>\n",
       "      <td>2019-09-02 07:03:00</td>\n",
       "      <td>2</td>\n",
       "      <td>dairy</td>\n",
       "    </tr>\n",
       "    <tr>\n",
       "      <th>2</th>\n",
       "      <td>2019-09-02 07:04:00</td>\n",
       "      <td>3</td>\n",
       "      <td>dairy</td>\n",
       "    </tr>\n",
       "    <tr>\n",
       "      <th>3</th>\n",
       "      <td>2019-09-02 07:04:00</td>\n",
       "      <td>4</td>\n",
       "      <td>dairy</td>\n",
       "    </tr>\n",
       "    <tr>\n",
       "      <th>4</th>\n",
       "      <td>2019-09-02 07:04:00</td>\n",
       "      <td>5</td>\n",
       "      <td>spices</td>\n",
       "    </tr>\n",
       "  </tbody>\n",
       "</table>\n",
       "</div>"
      ],
      "text/plain": [
       "            timestamp  customer_no location\n",
       "0 2019-09-02 07:03:00            1    dairy\n",
       "1 2019-09-02 07:03:00            2    dairy\n",
       "2 2019-09-02 07:04:00            3    dairy\n",
       "3 2019-09-02 07:04:00            4    dairy\n",
       "4 2019-09-02 07:04:00            5   spices"
      ]
     },
     "execution_count": 2,
     "metadata": {},
     "output_type": "execute_result"
    }
   ],
   "source": [
    "df = pd.read_csv('Data/1_monday.csv',sep=';', parse_dates=True )\n",
    "df['timestamp'] = pd.to_datetime(df['timestamp'])\n",
    "df_c = df.copy()\n",
    "df.head(5)"
   ]
  },
  {
   "cell_type": "code",
   "execution_count": 3,
   "metadata": {},
   "outputs": [
    {
     "data": {
      "text/html": [
       "<div>\n",
       "<style scoped>\n",
       "    .dataframe tbody tr th:only-of-type {\n",
       "        vertical-align: middle;\n",
       "    }\n",
       "\n",
       "    .dataframe tbody tr th {\n",
       "        vertical-align: top;\n",
       "    }\n",
       "\n",
       "    .dataframe thead th {\n",
       "        text-align: right;\n",
       "    }\n",
       "</style>\n",
       "<table border=\"1\" class=\"dataframe\">\n",
       "  <thead>\n",
       "    <tr style=\"text-align: right;\">\n",
       "      <th></th>\n",
       "      <th>timestamp</th>\n",
       "      <th>customer_no</th>\n",
       "      <th>location</th>\n",
       "      <th>date</th>\n",
       "      <th>hour</th>\n",
       "      <th>min</th>\n",
       "      <th>sec</th>\n",
       "      <th>price</th>\n",
       "    </tr>\n",
       "  </thead>\n",
       "  <tbody>\n",
       "    <tr>\n",
       "      <th>0</th>\n",
       "      <td>2019-09-02 07:03:00</td>\n",
       "      <td>1</td>\n",
       "      <td>dairy</td>\n",
       "      <td>2019-09-02</td>\n",
       "      <td>7</td>\n",
       "      <td>3</td>\n",
       "      <td>0</td>\n",
       "      <td>5</td>\n",
       "    </tr>\n",
       "    <tr>\n",
       "      <th>1</th>\n",
       "      <td>2019-09-02 07:03:00</td>\n",
       "      <td>2</td>\n",
       "      <td>dairy</td>\n",
       "      <td>2019-09-02</td>\n",
       "      <td>7</td>\n",
       "      <td>3</td>\n",
       "      <td>0</td>\n",
       "      <td>5</td>\n",
       "    </tr>\n",
       "    <tr>\n",
       "      <th>2</th>\n",
       "      <td>2019-09-02 07:04:00</td>\n",
       "      <td>3</td>\n",
       "      <td>dairy</td>\n",
       "      <td>2019-09-02</td>\n",
       "      <td>7</td>\n",
       "      <td>4</td>\n",
       "      <td>0</td>\n",
       "      <td>5</td>\n",
       "    </tr>\n",
       "    <tr>\n",
       "      <th>3</th>\n",
       "      <td>2019-09-02 07:04:00</td>\n",
       "      <td>4</td>\n",
       "      <td>dairy</td>\n",
       "      <td>2019-09-02</td>\n",
       "      <td>7</td>\n",
       "      <td>4</td>\n",
       "      <td>0</td>\n",
       "      <td>5</td>\n",
       "    </tr>\n",
       "    <tr>\n",
       "      <th>4</th>\n",
       "      <td>2019-09-02 07:04:00</td>\n",
       "      <td>5</td>\n",
       "      <td>spices</td>\n",
       "      <td>2019-09-02</td>\n",
       "      <td>7</td>\n",
       "      <td>4</td>\n",
       "      <td>0</td>\n",
       "      <td>3</td>\n",
       "    </tr>\n",
       "  </tbody>\n",
       "</table>\n",
       "</div>"
      ],
      "text/plain": [
       "            timestamp  customer_no location        date  hour  min  sec  price\n",
       "0 2019-09-02 07:03:00            1    dairy  2019-09-02     7    3    0      5\n",
       "1 2019-09-02 07:03:00            2    dairy  2019-09-02     7    3    0      5\n",
       "2 2019-09-02 07:04:00            3    dairy  2019-09-02     7    4    0      5\n",
       "3 2019-09-02 07:04:00            4    dairy  2019-09-02     7    4    0      5\n",
       "4 2019-09-02 07:04:00            5   spices  2019-09-02     7    4    0      3"
      ]
     },
     "execution_count": 3,
     "metadata": {},
     "output_type": "execute_result"
    }
   ],
   "source": [
    "df['date'] = df['timestamp'].dt.date\n",
    "df['hour'] = df['timestamp'].dt.hour\n",
    "df['min'] = df['timestamp'].dt.minute\n",
    "df['sec'] = df['timestamp'].dt.second\n",
    "df['price']=df['location']\n",
    "df.price = df.price.map( {'checkout':0,'fruit':4,'spices':3,'dairy':5,'drinks':6} )\n",
    "df.head(5)"
   ]
  },
  {
   "cell_type": "markdown",
   "metadata": {},
   "source": [
    "### - 1.Calculate the total number of customers in each section"
   ]
  },
  {
   "cell_type": "code",
   "execution_count": 4,
   "metadata": {},
   "outputs": [
    {
     "data": {
      "text/plain": [
       "<matplotlib.axes._subplots.AxesSubplot at 0x1ec784ec160>"
      ]
     },
     "execution_count": 4,
     "metadata": {},
     "output_type": "execute_result"
    },
    {
     "data": {
      "image/png": "[encoded data removed]",
      "text/plain": [
       "<Figure size 432x288 with 1 Axes>"
      ]
     },
     "metadata": {
      "needs_background": "light"
     },
     "output_type": "display_data"
    }
   ],
   "source": [
    "df1 = df.groupby(['location'])[['customer_no']].count()\n",
    "sns.countplot(x = df['location'], data =df1, palette = 'Set3')\n",
    "# df1.head(15)#\n",
    "# df1.plot()"
   ]
  },
  {
   "cell_type": "markdown",
   "metadata": {},
   "source": [
    "### - 2.Calculate the total number of customers in each section over time\n"
   ]
  },
  {
   "cell_type": "code",
   "execution_count": 5,
   "metadata": {
    "scrolled": true
   },
   "outputs": [
    {
     "data": {
      "text/plain": [
       "<matplotlib.axes._subplots.AxesSubplot at 0x1ec78d1b6a0>"
      ]
     },
     "execution_count": 5,
     "metadata": {},
     "output_type": "execute_result"
    },
    {
     "data": {
      "image/png": "[encoded data removed]",
      "text/plain": [
       "<Figure size 432x288 with 1 Axes>"
      ]
     },
     "metadata": {
      "needs_background": "light"
     },
     "output_type": "display_data"
    }
   ],
   "source": [
    "df2 = df.groupby(['location','hour'])[['customer_no']].count().unstack(0)\n",
    "df2['customer_no'].plot()\n",
    "# print(df2['customer_no'])"
   ]
  },
  {
   "cell_type": "markdown",
   "metadata": {},
   "source": [
    "### - 3.Display the number of customers at checkout over time\n"
   ]
  },
  {
   "cell_type": "code",
   "execution_count": 29,
   "metadata": {
    "scrolled": true
   },
   "outputs": [
    {
     "data": {
      "text/plain": [
       "<matplotlib.axes._subplots.AxesSubplot at 0x1ec7a3d59a0>"
      ]
     },
     "execution_count": 29,
     "metadata": {},
     "output_type": "execute_result"
    },
    {
     "data": {
      "image/png": "[encoded data removed]",
      "text/plain": [
       "<Figure size 432x288 with 1 Axes>"
      ]
     },
     "metadata": {
      "needs_background": "light"
     },
     "output_type": "display_data"
    }
   ],
   "source": [
    "df3 = df.groupby(['location','hour'])[['customer_no']].count().unstack(0)\n",
    "# print(df3['customer_no'][['checkout']].head(3))\n",
    "df3['customer_no'][['checkout']].plot()"
   ]
  },
  {
   "cell_type": "markdown",
   "metadata": {},
   "source": [
    "### - 4.Calculate the time each customer spent in the market\n"
   ]
  },
  {
   "cell_type": "code",
   "execution_count": 7,
   "metadata": {},
   "outputs": [],
   "source": [
    "def time_spent(customer_no):\n",
    "    df_cx = df[df['customer_no']==customer_no]\n",
    "    df_cx_min = df_cx['timestamp'].min()\n",
    "    df_cx_max = df_cx['timestamp'].max()\n",
    "    spent_time = df_cx_max - df_cx_min\n",
    "    return spent_time    "
   ]
  },
  {
   "cell_type": "code",
   "execution_count": 8,
   "metadata": {},
   "outputs": [],
   "source": [
    "df4=df.copy()\n",
    "df4['Spent_time'] = df4['customer_no'].apply(time_spent)\n",
    "df4 = df4[['Spent_time','customer_no']]\n",
    "# print(len(df4))\n",
    "df4.drop_duplicates(inplace=True)\n",
    "# print(len(df4))\n",
    "df4['Spent_time'] = df4['Spent_time'].astype('timedelta64[m]')"
   ]
  },
  {
   "cell_type": "code",
   "execution_count": 9,
   "metadata": {},
   "outputs": [],
   "source": [
    "# df4.info()\n",
    "# df4.describe()"
   ]
  },
  {
   "cell_type": "code",
   "execution_count": 10,
   "metadata": {},
   "outputs": [
    {
     "data": {
      "text/plain": [
       "[<matplotlib.lines.Line2D at 0x1ec78e7bfd0>]"
      ]
     },
     "execution_count": 10,
     "metadata": {},
     "output_type": "execute_result"
    },
    {
     "data": {
      "image/png": "[encoded data removed]",
      "text/plain": [
       "<Figure size 1080x432 with 1 Axes>"
      ]
     },
     "metadata": {
      "needs_background": "light"
     },
     "output_type": "display_data"
    }
   ],
   "source": [
    "df4.head(10)#\n",
    "fig, ax = plt.subplots(figsize = (15, 6)) \n",
    "plt.plot(df4['customer_no'],df4['Spent_time'])"
   ]
  },
  {
   "cell_type": "code",
   "execution_count": 11,
   "metadata": {},
   "outputs": [
    {
     "data": {
      "text/html": [
       "<div>\n",
       "<style scoped>\n",
       "    .dataframe tbody tr th:only-of-type {\n",
       "        vertical-align: middle;\n",
       "    }\n",
       "\n",
       "    .dataframe tbody tr th {\n",
       "        vertical-align: top;\n",
       "    }\n",
       "\n",
       "    .dataframe thead th {\n",
       "        text-align: right;\n",
       "    }\n",
       "</style>\n",
       "<table border=\"1\" class=\"dataframe\">\n",
       "  <thead>\n",
       "    <tr style=\"text-align: right;\">\n",
       "      <th></th>\n",
       "      <th>timestamp</th>\n",
       "    </tr>\n",
       "    <tr>\n",
       "      <th>customer_no</th>\n",
       "      <th></th>\n",
       "    </tr>\n",
       "  </thead>\n",
       "  <tbody>\n",
       "    <tr>\n",
       "      <th>1</th>\n",
       "      <td>00:02:00</td>\n",
       "    </tr>\n",
       "    <tr>\n",
       "      <th>2</th>\n",
       "      <td>00:03:00</td>\n",
       "    </tr>\n",
       "    <tr>\n",
       "      <th>3</th>\n",
       "      <td>00:02:00</td>\n",
       "    </tr>\n",
       "    <tr>\n",
       "      <th>4</th>\n",
       "      <td>00:04:00</td>\n",
       "    </tr>\n",
       "    <tr>\n",
       "      <th>5</th>\n",
       "      <td>00:01:00</td>\n",
       "    </tr>\n",
       "  </tbody>\n",
       "</table>\n",
       "</div>"
      ],
      "text/plain": [
       "            timestamp\n",
       "customer_no          \n",
       "1            00:02:00\n",
       "2            00:03:00\n",
       "3            00:02:00\n",
       "4            00:04:00\n",
       "5            00:01:00"
      ]
     },
     "execution_count": 11,
     "metadata": {},
     "output_type": "execute_result"
    }
   ],
   "source": [
    "difference=df.groupby('customer_no')[['timestamp']].agg(lambda x: x.max() - x.min()) ## one liner from Diana\n",
    "difference.head(5)"
   ]
  },
  {
   "cell_type": "markdown",
   "metadata": {},
   "source": [
    "### - 5.Calculate the total number of customers in the supermarket over time.\n"
   ]
  },
  {
   "cell_type": "code",
   "execution_count": 33,
   "metadata": {},
   "outputs": [
    {
     "data": {
      "text/plain": [
       "<matplotlib.axes._subplots.AxesSubplot at 0x1ec7a56ac70>"
      ]
     },
     "execution_count": 33,
     "metadata": {},
     "output_type": "execute_result"
    },
    {
     "data": {
      "image/png": "[encoded data removed]",
      "text/plain": [
       "<Figure size 432x288 with 1 Axes>"
      ]
     },
     "metadata": {
      "needs_background": "light"
     },
     "output_type": "display_data"
    }
   ],
   "source": [
    "df5 = df[df.location != 'checkout'].groupby(['hour'])[['customer_no']].count()\n",
    "# df5 = df.groupby(['hour'])[['customer_no']].count() \n",
    "df5.plot()"
   ]
  },
  {
   "cell_type": "markdown",
   "metadata": {},
   "source": [
    "## - Revenue calculation"
   ]
  },
  {
   "cell_type": "code",
   "execution_count": 27,
   "metadata": {},
   "outputs": [
    {
     "data": {
      "text/plain": [
       "Text(-2.700000000000003, 0.5, 'Revenue per hour')"
      ]
     },
     "execution_count": 27,
     "metadata": {},
     "output_type": "execute_result"
    },
    {
     "data": {
      "text/plain": [
       "<Figure size 1080x360 with 0 Axes>"
      ]
     },
     "metadata": {},
     "output_type": "display_data"
    },
    {
     "data": {
      "image/png": "[encoded data removed]",
      "text/plain": [
       "<Figure size 360x360 with 1 Axes>"
      ]
     },
     "metadata": {
      "needs_background": "light"
     },
     "output_type": "display_data"
    }
   ],
   "source": [
    "#Revenue per hour\n",
    "plt.figure(figsize=(15,5))\n",
    "df_revenue_hour = df.groupby('hour').agg({\"price\": 'sum'})\n",
    "df_revenue_hour.reset_index(inplace=True)\n",
    "sns.catplot(x='hour',y='price', data=df_revenue_hour, kind='bar')\n",
    "plt.ylabel('Revenue per hour')"
   ]
  },
  {
   "cell_type": "code",
   "execution_count": 28,
   "metadata": {},
   "outputs": [
    {
     "data": {
      "text/plain": [
       "Text(0.5, 6.79999999999999, 'Section')"
      ]
     },
     "execution_count": 28,
     "metadata": {},
     "output_type": "execute_result"
    },
    {
     "data": {
      "text/plain": [
       "<Figure size 576x360 with 0 Axes>"
      ]
     },
     "metadata": {},
     "output_type": "display_data"
    },
    {
     "data": {
      "image/png": "[encoded data removed]",
      "text/plain": [
       "<Figure size 360x360 with 1 Axes>"
      ]
     },
     "metadata": {
      "needs_background": "light"
     },
     "output_type": "display_data"
    }
   ],
   "source": [
    "#Revenue per section\n",
    "plt.figure(figsize=(8,5))\n",
    "df_revenue_section = df.loc[(df['location'] != 'checkout'),:].copy()\n",
    "df_revenue_section = df_revenue_section.groupby('location').agg({\"price\": 'sum'})\n",
    "df_revenue_section.reset_index(inplace=True)\n",
    "sns.catplot(x='location',y='price',data=df_revenue_section,kind='bar')\n",
    "plt.ylabel('Revenue per section')\n",
    "plt.xlabel('Section')"
   ]
  },
  {
   "cell_type": "markdown",
   "metadata": {},
   "source": [
    "## - Our business managers think that the first section customers visit follows a different pattern than the following ones. Plot the distribution of customers of their first visited section versus following sections (treat all sections visited after the first as “following”)."
   ]
  },
  {
   "cell_type": "markdown",
   "metadata": {},
   "source": [
    "- Customer came into first dairy section , collect those forst entry "
   ]
  },
  {
   "cell_type": "code",
   "execution_count": 13,
   "metadata": {},
   "outputs": [
    {
     "data": {
      "text/html": [
       "<div>\n",
       "<style scoped>\n",
       "    .dataframe tbody tr th:only-of-type {\n",
       "        vertical-align: middle;\n",
       "    }\n",
       "\n",
       "    .dataframe tbody tr th {\n",
       "        vertical-align: top;\n",
       "    }\n",
       "\n",
       "    .dataframe thead th {\n",
       "        text-align: right;\n",
       "    }\n",
       "</style>\n",
       "<table border=\"1\" class=\"dataframe\">\n",
       "  <thead>\n",
       "    <tr style=\"text-align: right;\">\n",
       "      <th></th>\n",
       "      <th>timestamp</th>\n",
       "      <th>customer_no</th>\n",
       "      <th>location</th>\n",
       "      <th>date</th>\n",
       "      <th>hour</th>\n",
       "      <th>min</th>\n",
       "      <th>sec</th>\n",
       "      <th>price</th>\n",
       "      <th>started_dairy</th>\n",
       "      <th>started_drinks</th>\n",
       "      <th>started_fruits</th>\n",
       "      <th>started_spices</th>\n",
       "      <th>Finished_checkout</th>\n",
       "    </tr>\n",
       "  </thead>\n",
       "  <tbody>\n",
       "    <tr>\n",
       "      <th>0</th>\n",
       "      <td>2019-09-02 07:03:00</td>\n",
       "      <td>1</td>\n",
       "      <td>dairy</td>\n",
       "      <td>2019-09-02</td>\n",
       "      <td>7</td>\n",
       "      <td>3</td>\n",
       "      <td>0</td>\n",
       "      <td>5</td>\n",
       "      <td>0</td>\n",
       "      <td>0</td>\n",
       "      <td>0</td>\n",
       "      <td>0</td>\n",
       "      <td>0</td>\n",
       "    </tr>\n",
       "    <tr>\n",
       "      <th>1</th>\n",
       "      <td>2019-09-02 07:03:00</td>\n",
       "      <td>2</td>\n",
       "      <td>dairy</td>\n",
       "      <td>2019-09-02</td>\n",
       "      <td>7</td>\n",
       "      <td>3</td>\n",
       "      <td>0</td>\n",
       "      <td>5</td>\n",
       "      <td>0</td>\n",
       "      <td>0</td>\n",
       "      <td>0</td>\n",
       "      <td>0</td>\n",
       "      <td>0</td>\n",
       "    </tr>\n",
       "    <tr>\n",
       "      <th>2</th>\n",
       "      <td>2019-09-02 07:04:00</td>\n",
       "      <td>3</td>\n",
       "      <td>dairy</td>\n",
       "      <td>2019-09-02</td>\n",
       "      <td>7</td>\n",
       "      <td>4</td>\n",
       "      <td>0</td>\n",
       "      <td>5</td>\n",
       "      <td>0</td>\n",
       "      <td>0</td>\n",
       "      <td>0</td>\n",
       "      <td>0</td>\n",
       "      <td>0</td>\n",
       "    </tr>\n",
       "    <tr>\n",
       "      <th>3</th>\n",
       "      <td>2019-09-02 07:04:00</td>\n",
       "      <td>4</td>\n",
       "      <td>dairy</td>\n",
       "      <td>2019-09-02</td>\n",
       "      <td>7</td>\n",
       "      <td>4</td>\n",
       "      <td>0</td>\n",
       "      <td>5</td>\n",
       "      <td>0</td>\n",
       "      <td>0</td>\n",
       "      <td>0</td>\n",
       "      <td>0</td>\n",
       "      <td>0</td>\n",
       "    </tr>\n",
       "    <tr>\n",
       "      <th>4</th>\n",
       "      <td>2019-09-02 07:04:00</td>\n",
       "      <td>5</td>\n",
       "      <td>spices</td>\n",
       "      <td>2019-09-02</td>\n",
       "      <td>7</td>\n",
       "      <td>4</td>\n",
       "      <td>0</td>\n",
       "      <td>3</td>\n",
       "      <td>0</td>\n",
       "      <td>0</td>\n",
       "      <td>0</td>\n",
       "      <td>0</td>\n",
       "      <td>0</td>\n",
       "    </tr>\n",
       "  </tbody>\n",
       "</table>\n",
       "</div>"
      ],
      "text/plain": [
       "            timestamp  customer_no location        date  hour  min  sec  \\\n",
       "0 2019-09-02 07:03:00            1    dairy  2019-09-02     7    3    0   \n",
       "1 2019-09-02 07:03:00            2    dairy  2019-09-02     7    3    0   \n",
       "2 2019-09-02 07:04:00            3    dairy  2019-09-02     7    4    0   \n",
       "3 2019-09-02 07:04:00            4    dairy  2019-09-02     7    4    0   \n",
       "4 2019-09-02 07:04:00            5   spices  2019-09-02     7    4    0   \n",
       "\n",
       "   price  started_dairy  started_drinks  started_fruits  started_spices  \\\n",
       "0      5              0               0               0               0   \n",
       "1      5              0               0               0               0   \n",
       "2      5              0               0               0               0   \n",
       "3      5              0               0               0               0   \n",
       "4      3              0               0               0               0   \n",
       "\n",
       "   Finished_checkout  \n",
       "0                  0  \n",
       "1                  0  \n",
       "2                  0  \n",
       "3                  0  \n",
       "4                  0  "
      ]
     },
     "execution_count": 13,
     "metadata": {},
     "output_type": "execute_result"
    }
   ],
   "source": [
    "df6 = df.copy()\n",
    "df6['started_dairy']= 0\n",
    "df6['started_drinks']= 0\n",
    "df6['started_fruits']= 0\n",
    "df6['started_spices']= 0\n",
    "df6['Finished_checkout']= 0\n",
    "df6.head(5)\n",
    "# df.shape#"
   ]
  },
  {
   "cell_type": "code",
   "execution_count": 14,
   "metadata": {},
   "outputs": [],
   "source": [
    "def shelf_pointer(customer_no):\n",
    "    df6_new = df6[df6['customer_no']==customer_no]\n",
    "    df6_new.sort_values(by='timestamp')\n",
    "    \n",
    "    if df6_new.iloc[0,2] == 'dairy':\n",
    "        df6['started_dairy'] = 1\n",
    "    "
   ]
  },
  {
   "cell_type": "code",
   "execution_count": 15,
   "metadata": {},
   "outputs": [
    {
     "data": {
      "text/html": [
       "<div>\n",
       "<style scoped>\n",
       "    .dataframe tbody tr th:only-of-type {\n",
       "        vertical-align: middle;\n",
       "    }\n",
       "\n",
       "    .dataframe tbody tr th {\n",
       "        vertical-align: top;\n",
       "    }\n",
       "\n",
       "    .dataframe thead th {\n",
       "        text-align: right;\n",
       "    }\n",
       "</style>\n",
       "<table border=\"1\" class=\"dataframe\">\n",
       "  <thead>\n",
       "    <tr style=\"text-align: right;\">\n",
       "      <th></th>\n",
       "      <th>timestamp</th>\n",
       "      <th>customer_no</th>\n",
       "      <th>location</th>\n",
       "      <th>date</th>\n",
       "      <th>hour</th>\n",
       "      <th>min</th>\n",
       "      <th>sec</th>\n",
       "      <th>price</th>\n",
       "      <th>started_dairy</th>\n",
       "      <th>started_drinks</th>\n",
       "      <th>started_fruits</th>\n",
       "      <th>started_spices</th>\n",
       "      <th>Finished_checkout</th>\n",
       "    </tr>\n",
       "  </thead>\n",
       "  <tbody>\n",
       "    <tr>\n",
       "      <th>0</th>\n",
       "      <td>2019-09-02 07:03:00</td>\n",
       "      <td>1</td>\n",
       "      <td>dairy</td>\n",
       "      <td>2019-09-02</td>\n",
       "      <td>7</td>\n",
       "      <td>3</td>\n",
       "      <td>0</td>\n",
       "      <td>5</td>\n",
       "      <td>1</td>\n",
       "      <td>0</td>\n",
       "      <td>0</td>\n",
       "      <td>0</td>\n",
       "      <td>0</td>\n",
       "    </tr>\n",
       "    <tr>\n",
       "      <th>1</th>\n",
       "      <td>2019-09-02 07:03:00</td>\n",
       "      <td>2</td>\n",
       "      <td>dairy</td>\n",
       "      <td>2019-09-02</td>\n",
       "      <td>7</td>\n",
       "      <td>3</td>\n",
       "      <td>0</td>\n",
       "      <td>5</td>\n",
       "      <td>1</td>\n",
       "      <td>0</td>\n",
       "      <td>0</td>\n",
       "      <td>0</td>\n",
       "      <td>0</td>\n",
       "    </tr>\n",
       "    <tr>\n",
       "      <th>2</th>\n",
       "      <td>2019-09-02 07:04:00</td>\n",
       "      <td>3</td>\n",
       "      <td>dairy</td>\n",
       "      <td>2019-09-02</td>\n",
       "      <td>7</td>\n",
       "      <td>4</td>\n",
       "      <td>0</td>\n",
       "      <td>5</td>\n",
       "      <td>1</td>\n",
       "      <td>0</td>\n",
       "      <td>0</td>\n",
       "      <td>0</td>\n",
       "      <td>0</td>\n",
       "    </tr>\n",
       "    <tr>\n",
       "      <th>3</th>\n",
       "      <td>2019-09-02 07:04:00</td>\n",
       "      <td>4</td>\n",
       "      <td>dairy</td>\n",
       "      <td>2019-09-02</td>\n",
       "      <td>7</td>\n",
       "      <td>4</td>\n",
       "      <td>0</td>\n",
       "      <td>5</td>\n",
       "      <td>1</td>\n",
       "      <td>0</td>\n",
       "      <td>0</td>\n",
       "      <td>0</td>\n",
       "      <td>0</td>\n",
       "    </tr>\n",
       "    <tr>\n",
       "      <th>4</th>\n",
       "      <td>2019-09-02 07:04:00</td>\n",
       "      <td>5</td>\n",
       "      <td>spices</td>\n",
       "      <td>2019-09-02</td>\n",
       "      <td>7</td>\n",
       "      <td>4</td>\n",
       "      <td>0</td>\n",
       "      <td>3</td>\n",
       "      <td>1</td>\n",
       "      <td>0</td>\n",
       "      <td>0</td>\n",
       "      <td>0</td>\n",
       "      <td>0</td>\n",
       "    </tr>\n",
       "    <tr>\n",
       "      <th>...</th>\n",
       "      <td>...</td>\n",
       "      <td>...</td>\n",
       "      <td>...</td>\n",
       "      <td>...</td>\n",
       "      <td>...</td>\n",
       "      <td>...</td>\n",
       "      <td>...</td>\n",
       "      <td>...</td>\n",
       "      <td>...</td>\n",
       "      <td>...</td>\n",
       "      <td>...</td>\n",
       "      <td>...</td>\n",
       "      <td>...</td>\n",
       "    </tr>\n",
       "    <tr>\n",
       "      <th>4879</th>\n",
       "      <td>2019-09-02 21:49:00</td>\n",
       "      <td>1442</td>\n",
       "      <td>checkout</td>\n",
       "      <td>2019-09-02</td>\n",
       "      <td>21</td>\n",
       "      <td>49</td>\n",
       "      <td>0</td>\n",
       "      <td>0</td>\n",
       "      <td>1</td>\n",
       "      <td>0</td>\n",
       "      <td>0</td>\n",
       "      <td>0</td>\n",
       "      <td>0</td>\n",
       "    </tr>\n",
       "    <tr>\n",
       "      <th>4880</th>\n",
       "      <td>2019-09-02 21:49:00</td>\n",
       "      <td>1444</td>\n",
       "      <td>checkout</td>\n",
       "      <td>2019-09-02</td>\n",
       "      <td>21</td>\n",
       "      <td>49</td>\n",
       "      <td>0</td>\n",
       "      <td>0</td>\n",
       "      <td>1</td>\n",
       "      <td>0</td>\n",
       "      <td>0</td>\n",
       "      <td>0</td>\n",
       "      <td>0</td>\n",
       "    </tr>\n",
       "    <tr>\n",
       "      <th>4881</th>\n",
       "      <td>2019-09-02 21:49:00</td>\n",
       "      <td>1445</td>\n",
       "      <td>dairy</td>\n",
       "      <td>2019-09-02</td>\n",
       "      <td>21</td>\n",
       "      <td>49</td>\n",
       "      <td>0</td>\n",
       "      <td>5</td>\n",
       "      <td>1</td>\n",
       "      <td>0</td>\n",
       "      <td>0</td>\n",
       "      <td>0</td>\n",
       "      <td>0</td>\n",
       "    </tr>\n",
       "    <tr>\n",
       "      <th>4882</th>\n",
       "      <td>2019-09-02 21:50:00</td>\n",
       "      <td>1446</td>\n",
       "      <td>dairy</td>\n",
       "      <td>2019-09-02</td>\n",
       "      <td>21</td>\n",
       "      <td>50</td>\n",
       "      <td>0</td>\n",
       "      <td>5</td>\n",
       "      <td>1</td>\n",
       "      <td>0</td>\n",
       "      <td>0</td>\n",
       "      <td>0</td>\n",
       "      <td>0</td>\n",
       "    </tr>\n",
       "    <tr>\n",
       "      <th>4883</th>\n",
       "      <td>2019-09-02 21:50:00</td>\n",
       "      <td>1447</td>\n",
       "      <td>fruit</td>\n",
       "      <td>2019-09-02</td>\n",
       "      <td>21</td>\n",
       "      <td>50</td>\n",
       "      <td>0</td>\n",
       "      <td>4</td>\n",
       "      <td>1</td>\n",
       "      <td>0</td>\n",
       "      <td>0</td>\n",
       "      <td>0</td>\n",
       "      <td>0</td>\n",
       "    </tr>\n",
       "  </tbody>\n",
       "</table>\n",
       "<p>4884 rows × 13 columns</p>\n",
       "</div>"
      ],
      "text/plain": [
       "               timestamp  customer_no  location        date  hour  min  sec  \\\n",
       "0    2019-09-02 07:03:00            1     dairy  2019-09-02     7    3    0   \n",
       "1    2019-09-02 07:03:00            2     dairy  2019-09-02     7    3    0   \n",
       "2    2019-09-02 07:04:00            3     dairy  2019-09-02     7    4    0   \n",
       "3    2019-09-02 07:04:00            4     dairy  2019-09-02     7    4    0   \n",
       "4    2019-09-02 07:04:00            5    spices  2019-09-02     7    4    0   \n",
       "...                  ...          ...       ...         ...   ...  ...  ...   \n",
       "4879 2019-09-02 21:49:00         1442  checkout  2019-09-02    21   49    0   \n",
       "4880 2019-09-02 21:49:00         1444  checkout  2019-09-02    21   49    0   \n",
       "4881 2019-09-02 21:49:00         1445     dairy  2019-09-02    21   49    0   \n",
       "4882 2019-09-02 21:50:00         1446     dairy  2019-09-02    21   50    0   \n",
       "4883 2019-09-02 21:50:00         1447     fruit  2019-09-02    21   50    0   \n",
       "\n",
       "      price  started_dairy  started_drinks  started_fruits  started_spices  \\\n",
       "0         5              1               0               0               0   \n",
       "1         5              1               0               0               0   \n",
       "2         5              1               0               0               0   \n",
       "3         5              1               0               0               0   \n",
       "4         3              1               0               0               0   \n",
       "...     ...            ...             ...             ...             ...   \n",
       "4879      0              1               0               0               0   \n",
       "4880      0              1               0               0               0   \n",
       "4881      5              1               0               0               0   \n",
       "4882      5              1               0               0               0   \n",
       "4883      4              1               0               0               0   \n",
       "\n",
       "      Finished_checkout  \n",
       "0                     0  \n",
       "1                     0  \n",
       "2                     0  \n",
       "3                     0  \n",
       "4                     0  \n",
       "...                 ...  \n",
       "4879                  0  \n",
       "4880                  0  \n",
       "4881                  0  \n",
       "4882                  0  \n",
       "4883                  0  \n",
       "\n",
       "[4884 rows x 13 columns]"
      ]
     },
     "execution_count": 15,
     "metadata": {},
     "output_type": "execute_result"
    }
   ],
   "source": [
    "df6['customer_no'].apply(shelf_pointer)\n",
    "df6"
   ]
  },
  {
   "cell_type": "markdown",
   "metadata": {},
   "source": [
    "### From another "
   ]
  },
  {
   "cell_type": "code",
   "execution_count": 16,
   "metadata": {},
   "outputs": [
    {
     "data": {
      "text/html": [
       "<div>\n",
       "<style scoped>\n",
       "    .dataframe tbody tr th:only-of-type {\n",
       "        vertical-align: middle;\n",
       "    }\n",
       "\n",
       "    .dataframe tbody tr th {\n",
       "        vertical-align: top;\n",
       "    }\n",
       "\n",
       "    .dataframe thead th {\n",
       "        text-align: right;\n",
       "    }\n",
       "</style>\n",
       "<table border=\"1\" class=\"dataframe\">\n",
       "  <thead>\n",
       "    <tr style=\"text-align: right;\">\n",
       "      <th></th>\n",
       "      <th>timestamp</th>\n",
       "      <th>customer_no</th>\n",
       "      <th>location</th>\n",
       "      <th>date</th>\n",
       "      <th>hour</th>\n",
       "      <th>min</th>\n",
       "      <th>sec</th>\n",
       "      <th>price</th>\n",
       "      <th>arrived</th>\n",
       "      <th>checkout</th>\n",
       "      <th>spent_time</th>\n",
       "    </tr>\n",
       "  </thead>\n",
       "  <tbody>\n",
       "    <tr>\n",
       "      <th>0</th>\n",
       "      <td>2019-09-02 07:03:00</td>\n",
       "      <td>1</td>\n",
       "      <td>dairy</td>\n",
       "      <td>2019-09-02</td>\n",
       "      <td>7</td>\n",
       "      <td>3</td>\n",
       "      <td>0</td>\n",
       "      <td>5</td>\n",
       "      <td>2019-09-02 07:03:00</td>\n",
       "      <td>2019-09-02 07:05:00</td>\n",
       "      <td>2.0</td>\n",
       "    </tr>\n",
       "    <tr>\n",
       "      <th>1</th>\n",
       "      <td>2019-09-02 07:03:00</td>\n",
       "      <td>2</td>\n",
       "      <td>dairy</td>\n",
       "      <td>2019-09-02</td>\n",
       "      <td>7</td>\n",
       "      <td>3</td>\n",
       "      <td>0</td>\n",
       "      <td>5</td>\n",
       "      <td>2019-09-02 07:03:00</td>\n",
       "      <td>2019-09-02 07:06:00</td>\n",
       "      <td>3.0</td>\n",
       "    </tr>\n",
       "    <tr>\n",
       "      <th>2</th>\n",
       "      <td>2019-09-02 07:04:00</td>\n",
       "      <td>3</td>\n",
       "      <td>dairy</td>\n",
       "      <td>2019-09-02</td>\n",
       "      <td>7</td>\n",
       "      <td>4</td>\n",
       "      <td>0</td>\n",
       "      <td>5</td>\n",
       "      <td>2019-09-02 07:04:00</td>\n",
       "      <td>2019-09-02 07:06:00</td>\n",
       "      <td>2.0</td>\n",
       "    </tr>\n",
       "    <tr>\n",
       "      <th>3</th>\n",
       "      <td>2019-09-02 07:04:00</td>\n",
       "      <td>4</td>\n",
       "      <td>dairy</td>\n",
       "      <td>2019-09-02</td>\n",
       "      <td>7</td>\n",
       "      <td>4</td>\n",
       "      <td>0</td>\n",
       "      <td>5</td>\n",
       "      <td>2019-09-02 07:04:00</td>\n",
       "      <td>2019-09-02 07:08:00</td>\n",
       "      <td>4.0</td>\n",
       "    </tr>\n",
       "    <tr>\n",
       "      <th>4</th>\n",
       "      <td>2019-09-02 07:04:00</td>\n",
       "      <td>5</td>\n",
       "      <td>spices</td>\n",
       "      <td>2019-09-02</td>\n",
       "      <td>7</td>\n",
       "      <td>4</td>\n",
       "      <td>0</td>\n",
       "      <td>3</td>\n",
       "      <td>2019-09-02 07:04:00</td>\n",
       "      <td>2019-09-02 07:05:00</td>\n",
       "      <td>1.0</td>\n",
       "    </tr>\n",
       "  </tbody>\n",
       "</table>\n",
       "</div>"
      ],
      "text/plain": [
       "            timestamp  customer_no location        date  hour  min  sec  \\\n",
       "0 2019-09-02 07:03:00            1    dairy  2019-09-02     7    3    0   \n",
       "1 2019-09-02 07:03:00            2    dairy  2019-09-02     7    3    0   \n",
       "2 2019-09-02 07:04:00            3    dairy  2019-09-02     7    4    0   \n",
       "3 2019-09-02 07:04:00            4    dairy  2019-09-02     7    4    0   \n",
       "4 2019-09-02 07:04:00            5   spices  2019-09-02     7    4    0   \n",
       "\n",
       "   price             arrived            checkout  spent_time  \n",
       "0      5 2019-09-02 07:03:00 2019-09-02 07:05:00         2.0  \n",
       "1      5 2019-09-02 07:03:00 2019-09-02 07:06:00         3.0  \n",
       "2      5 2019-09-02 07:04:00 2019-09-02 07:06:00         2.0  \n",
       "3      5 2019-09-02 07:04:00 2019-09-02 07:08:00         4.0  \n",
       "4      3 2019-09-02 07:04:00 2019-09-02 07:05:00         1.0  "
      ]
     },
     "execution_count": 16,
     "metadata": {},
     "output_type": "execute_result"
    }
   ],
   "source": [
    "df['arrived']= df.groupby('customer_no')[['timestamp']].transform(min)\n",
    "df['checkout']= df.groupby('customer_no')[['timestamp']].transform(max)\n",
    "df['spent_time'] = df['checkout']-df['arrived']\n",
    "df['spent_time'] = df['spent_time'].astype('timedelta64[m]')\n",
    "df.head(5)"
   ]
  },
  {
   "cell_type": "code",
   "execution_count": null,
   "metadata": {},
   "outputs": [],
   "source": []
  },
  {
   "cell_type": "code",
   "execution_count": null,
   "metadata": {},
   "outputs": [],
   "source": []
  },
  {
   "cell_type": "code",
   "execution_count": null,
   "metadata": {},
   "outputs": [],
   "source": []
  },
  {
   "cell_type": "code",
   "execution_count": null,
   "metadata": {},
   "outputs": [],
   "source": []
  },
  {
   "cell_type": "code",
   "execution_count": null,
   "metadata": {},
   "outputs": [],
   "source": []
  },
  {
   "cell_type": "code",
   "execution_count": null,
   "metadata": {},
   "outputs": [],
   "source": []
  },
  {
   "cell_type": "code",
   "execution_count": null,
   "metadata": {},
   "outputs": [],
   "source": []
  },
  {
   "cell_type": "code",
   "execution_count": null,
   "metadata": {},
   "outputs": [],
   "source": []
  },
  {
   "cell_type": "code",
   "execution_count": null,
   "metadata": {},
   "outputs": [],
   "source": []
  },
  {
   "cell_type": "code",
   "execution_count": 17,
   "metadata": {},
   "outputs": [
    {
     "data": {
      "text/html": [
       "<div>\n",
       "<style scoped>\n",
       "    .dataframe tbody tr th:only-of-type {\n",
       "        vertical-align: middle;\n",
       "    }\n",
       "\n",
       "    .dataframe tbody tr th {\n",
       "        vertical-align: top;\n",
       "    }\n",
       "\n",
       "    .dataframe thead th {\n",
       "        text-align: right;\n",
       "    }\n",
       "</style>\n",
       "<table border=\"1\" class=\"dataframe\">\n",
       "  <thead>\n",
       "    <tr style=\"text-align: right;\">\n",
       "      <th></th>\n",
       "      <th>timestamp</th>\n",
       "    </tr>\n",
       "    <tr>\n",
       "      <th>location</th>\n",
       "      <th></th>\n",
       "    </tr>\n",
       "  </thead>\n",
       "  <tbody>\n",
       "    <tr>\n",
       "      <th>checkout</th>\n",
       "      <td>2019-09-02 07:05:00</td>\n",
       "    </tr>\n",
       "    <tr>\n",
       "      <th>dairy</th>\n",
       "      <td>2019-09-02 07:03:00</td>\n",
       "    </tr>\n",
       "    <tr>\n",
       "      <th>drinks</th>\n",
       "      <td>2019-09-02 07:05:00</td>\n",
       "    </tr>\n",
       "    <tr>\n",
       "      <th>fruit</th>\n",
       "      <td>2019-09-02 07:04:00</td>\n",
       "    </tr>\n",
       "    <tr>\n",
       "      <th>spices</th>\n",
       "      <td>2019-09-02 07:04:00</td>\n",
       "    </tr>\n",
       "  </tbody>\n",
       "</table>\n",
       "</div>"
      ],
      "text/plain": [
       "                   timestamp\n",
       "location                    \n",
       "checkout 2019-09-02 07:05:00\n",
       "dairy    2019-09-02 07:03:00\n",
       "drinks   2019-09-02 07:05:00\n",
       "fruit    2019-09-02 07:04:00\n",
       "spices   2019-09-02 07:04:00"
      ]
     },
     "execution_count": 17,
     "metadata": {},
     "output_type": "execute_result"
    }
   ],
   "source": [
    "df100 = df.copy()\n",
    "df100 = df.groupby(['location'])[['timestamp']].min()\n",
    "# df100 = df100.unstack(1)['timestamp']\n",
    "df100\n",
    "# df100 = df.groupby(['location','customer_no'])[['timestamp']].min()\n",
    "# df100.unstack(1)['timestamp']"
   ]
  },
  {
   "cell_type": "code",
   "execution_count": null,
   "metadata": {},
   "outputs": [],
   "source": []
  },
  {
   "cell_type": "code",
   "execution_count": null,
   "metadata": {},
   "outputs": [],
   "source": []
  },
  {
   "cell_type": "code",
   "execution_count": null,
   "metadata": {},
   "outputs": [],
   "source": []
  },
  {
   "cell_type": "code",
   "execution_count": null,
   "metadata": {},
   "outputs": [],
   "source": []
  },
  {
   "cell_type": "code",
   "execution_count": null,
   "metadata": {},
   "outputs": [],
   "source": []
  },
  {
   "cell_type": "code",
   "execution_count": null,
   "metadata": {},
   "outputs": [],
   "source": []
  },
  {
   "cell_type": "code",
   "execution_count": null,
   "metadata": {},
   "outputs": [],
   "source": []
  },
  {
   "cell_type": "code",
   "execution_count": null,
   "metadata": {},
   "outputs": [],
   "source": []
  },
  {
   "cell_type": "code",
   "execution_count": null,
   "metadata": {},
   "outputs": [],
   "source": []
  },
  {
   "cell_type": "code",
   "execution_count": null,
   "metadata": {},
   "outputs": [],
   "source": []
  },
  {
   "cell_type": "code",
   "execution_count": null,
   "metadata": {},
   "outputs": [],
   "source": []
  },
  {
   "cell_type": "code",
   "execution_count": null,
   "metadata": {},
   "outputs": [],
   "source": []
  },
  {
   "cell_type": "code",
   "execution_count": null,
   "metadata": {},
   "outputs": [],
   "source": []
  },
  {
   "cell_type": "code",
   "execution_count": 18,
   "metadata": {},
   "outputs": [
    {
     "data": {
      "text/html": [
       "<div>\n",
       "<style scoped>\n",
       "    .dataframe tbody tr th:only-of-type {\n",
       "        vertical-align: middle;\n",
       "    }\n",
       "\n",
       "    .dataframe tbody tr th {\n",
       "        vertical-align: top;\n",
       "    }\n",
       "\n",
       "    .dataframe thead th {\n",
       "        text-align: right;\n",
       "    }\n",
       "</style>\n",
       "<table border=\"1\" class=\"dataframe\">\n",
       "  <thead>\n",
       "    <tr style=\"text-align: right;\">\n",
       "      <th></th>\n",
       "      <th>timestamp</th>\n",
       "      <th>customer_no</th>\n",
       "      <th>location</th>\n",
       "      <th>date</th>\n",
       "      <th>hour</th>\n",
       "      <th>min</th>\n",
       "      <th>sec</th>\n",
       "      <th>price</th>\n",
       "      <th>arrived</th>\n",
       "      <th>checkout</th>\n",
       "      <th>spent_time</th>\n",
       "    </tr>\n",
       "  </thead>\n",
       "  <tbody>\n",
       "    <tr>\n",
       "      <th>0</th>\n",
       "      <td>2019-09-02 07:03:00</td>\n",
       "      <td>1</td>\n",
       "      <td>dairy</td>\n",
       "      <td>2019-09-02</td>\n",
       "      <td>7</td>\n",
       "      <td>3</td>\n",
       "      <td>0</td>\n",
       "      <td>5</td>\n",
       "      <td>2019-09-02 07:03:00</td>\n",
       "      <td>2019-09-02 07:05:00</td>\n",
       "      <td>2.0</td>\n",
       "    </tr>\n",
       "    <tr>\n",
       "      <th>1</th>\n",
       "      <td>2019-09-02 07:03:00</td>\n",
       "      <td>2</td>\n",
       "      <td>dairy</td>\n",
       "      <td>2019-09-02</td>\n",
       "      <td>7</td>\n",
       "      <td>3</td>\n",
       "      <td>0</td>\n",
       "      <td>5</td>\n",
       "      <td>2019-09-02 07:03:00</td>\n",
       "      <td>2019-09-02 07:06:00</td>\n",
       "      <td>3.0</td>\n",
       "    </tr>\n",
       "    <tr>\n",
       "      <th>2</th>\n",
       "      <td>2019-09-02 07:04:00</td>\n",
       "      <td>3</td>\n",
       "      <td>dairy</td>\n",
       "      <td>2019-09-02</td>\n",
       "      <td>7</td>\n",
       "      <td>4</td>\n",
       "      <td>0</td>\n",
       "      <td>5</td>\n",
       "      <td>2019-09-02 07:04:00</td>\n",
       "      <td>2019-09-02 07:06:00</td>\n",
       "      <td>2.0</td>\n",
       "    </tr>\n",
       "    <tr>\n",
       "      <th>3</th>\n",
       "      <td>2019-09-02 07:04:00</td>\n",
       "      <td>4</td>\n",
       "      <td>dairy</td>\n",
       "      <td>2019-09-02</td>\n",
       "      <td>7</td>\n",
       "      <td>4</td>\n",
       "      <td>0</td>\n",
       "      <td>5</td>\n",
       "      <td>2019-09-02 07:04:00</td>\n",
       "      <td>2019-09-02 07:08:00</td>\n",
       "      <td>4.0</td>\n",
       "    </tr>\n",
       "    <tr>\n",
       "      <th>4</th>\n",
       "      <td>2019-09-02 07:04:00</td>\n",
       "      <td>5</td>\n",
       "      <td>spices</td>\n",
       "      <td>2019-09-02</td>\n",
       "      <td>7</td>\n",
       "      <td>4</td>\n",
       "      <td>0</td>\n",
       "      <td>3</td>\n",
       "      <td>2019-09-02 07:04:00</td>\n",
       "      <td>2019-09-02 07:05:00</td>\n",
       "      <td>1.0</td>\n",
       "    </tr>\n",
       "  </tbody>\n",
       "</table>\n",
       "</div>"
      ],
      "text/plain": [
       "            timestamp  customer_no location        date  hour  min  sec  \\\n",
       "0 2019-09-02 07:03:00            1    dairy  2019-09-02     7    3    0   \n",
       "1 2019-09-02 07:03:00            2    dairy  2019-09-02     7    3    0   \n",
       "2 2019-09-02 07:04:00            3    dairy  2019-09-02     7    4    0   \n",
       "3 2019-09-02 07:04:00            4    dairy  2019-09-02     7    4    0   \n",
       "4 2019-09-02 07:04:00            5   spices  2019-09-02     7    4    0   \n",
       "\n",
       "   price             arrived            checkout  spent_time  \n",
       "0      5 2019-09-02 07:03:00 2019-09-02 07:05:00         2.0  \n",
       "1      5 2019-09-02 07:03:00 2019-09-02 07:06:00         3.0  \n",
       "2      5 2019-09-02 07:04:00 2019-09-02 07:06:00         2.0  \n",
       "3      5 2019-09-02 07:04:00 2019-09-02 07:08:00         4.0  \n",
       "4      3 2019-09-02 07:04:00 2019-09-02 07:05:00         1.0  "
      ]
     },
     "execution_count": 18,
     "metadata": {},
     "output_type": "execute_result"
    }
   ],
   "source": [
    "df101=df.copy()\n",
    "df101.head(5)"
   ]
  },
  {
   "cell_type": "code",
   "execution_count": 19,
   "metadata": {},
   "outputs": [
    {
     "data": {
      "text/html": [
       "<div>\n",
       "<style scoped>\n",
       "    .dataframe tbody tr th:only-of-type {\n",
       "        vertical-align: middle;\n",
       "    }\n",
       "\n",
       "    .dataframe tbody tr th {\n",
       "        vertical-align: top;\n",
       "    }\n",
       "\n",
       "    .dataframe thead th {\n",
       "        text-align: right;\n",
       "    }\n",
       "</style>\n",
       "<table border=\"1\" class=\"dataframe\">\n",
       "  <thead>\n",
       "    <tr style=\"text-align: right;\">\n",
       "      <th></th>\n",
       "      <th>timestamp</th>\n",
       "      <th>customer_no</th>\n",
       "      <th>location</th>\n",
       "      <th>date</th>\n",
       "      <th>hour</th>\n",
       "      <th>min</th>\n",
       "      <th>sec</th>\n",
       "      <th>price</th>\n",
       "      <th>arrived</th>\n",
       "      <th>checkout</th>\n",
       "      <th>spent_time</th>\n",
       "    </tr>\n",
       "  </thead>\n",
       "  <tbody>\n",
       "    <tr>\n",
       "      <th>0</th>\n",
       "      <td>2019-09-02 07:03:00</td>\n",
       "      <td>1</td>\n",
       "      <td>dairy</td>\n",
       "      <td>2019-09-02</td>\n",
       "      <td>7</td>\n",
       "      <td>3</td>\n",
       "      <td>0</td>\n",
       "      <td>5</td>\n",
       "      <td>2019-09-02 07:03:00</td>\n",
       "      <td>2019-09-02 07:05:00</td>\n",
       "      <td>2.0</td>\n",
       "    </tr>\n",
       "    <tr>\n",
       "      <th>8</th>\n",
       "      <td>2019-09-02 07:05:00</td>\n",
       "      <td>1</td>\n",
       "      <td>checkout</td>\n",
       "      <td>2019-09-02</td>\n",
       "      <td>7</td>\n",
       "      <td>5</td>\n",
       "      <td>0</td>\n",
       "      <td>0</td>\n",
       "      <td>2019-09-02 07:03:00</td>\n",
       "      <td>2019-09-02 07:05:00</td>\n",
       "      <td>2.0</td>\n",
       "    </tr>\n",
       "  </tbody>\n",
       "</table>\n",
       "</div>"
      ],
      "text/plain": [
       "            timestamp  customer_no  location        date  hour  min  sec  \\\n",
       "0 2019-09-02 07:03:00            1     dairy  2019-09-02     7    3    0   \n",
       "8 2019-09-02 07:05:00            1  checkout  2019-09-02     7    5    0   \n",
       "\n",
       "   price             arrived            checkout  spent_time  \n",
       "0      5 2019-09-02 07:03:00 2019-09-02 07:05:00         2.0  \n",
       "8      0 2019-09-02 07:03:00 2019-09-02 07:05:00         2.0  "
      ]
     },
     "execution_count": 19,
     "metadata": {},
     "output_type": "execute_result"
    }
   ],
   "source": [
    "df101_new = df101[df['customer_no']==1]\n",
    "df101_new"
   ]
  },
  {
   "cell_type": "code",
   "execution_count": 20,
   "metadata": {},
   "outputs": [],
   "source": [
    "def add_col(df):\n",
    "#     df_c7 = df101[df101['customer_no']==customer_no]\n",
    "    df_c7_new = df\n",
    "    x = df_c7_new.customer_no.values\n",
    "    \n",
    "    df_c7 = df_c7_new[df_c7_new['customer_no']==x]\n",
    "    df_c7.sort_values(by='timestamp')\n",
    "    \n",
    "    if df_c7.iloc[0,2] == 'dairy':\n",
    "        df_c7['started_dairy'] = df_c7.iloc[0,2]\n",
    "    elif df_c7.iloc[0,2] == 'checkout':\n",
    "        df_c7['started_checkout'] = df_c7.iloc[0,2]\n",
    "    elif df_c7.iloc[0,2] == 'drinks':\n",
    "        df_c7['started_drinks'] = df_c7.iloc[0,2]\n",
    "    elif df_c7.iloc[0,2] == 'fruit':\n",
    "        df_c7['started_fruit'] = df_c7.iloc[0,2]\n",
    "    elif df_c7.iloc[0,2] == 'spices':\n",
    "        df_c7['started_spices'] = df_c7.iloc[0,2]\n",
    "    \n",
    "    return df_c7"
   ]
  },
  {
   "cell_type": "code",
   "execution_count": 21,
   "metadata": {
    "scrolled": true
   },
   "outputs": [],
   "source": [
    "df101_new=add_col(df101)"
   ]
  },
  {
   "cell_type": "code",
   "execution_count": 22,
   "metadata": {},
   "outputs": [
    {
     "data": {
      "text/html": [
       "<div>\n",
       "<style scoped>\n",
       "    .dataframe tbody tr th:only-of-type {\n",
       "        vertical-align: middle;\n",
       "    }\n",
       "\n",
       "    .dataframe tbody tr th {\n",
       "        vertical-align: top;\n",
       "    }\n",
       "\n",
       "    .dataframe thead th {\n",
       "        text-align: right;\n",
       "    }\n",
       "</style>\n",
       "<table border=\"1\" class=\"dataframe\">\n",
       "  <thead>\n",
       "    <tr style=\"text-align: right;\">\n",
       "      <th></th>\n",
       "      <th>timestamp</th>\n",
       "      <th>customer_no</th>\n",
       "      <th>location</th>\n",
       "      <th>date</th>\n",
       "      <th>hour</th>\n",
       "      <th>min</th>\n",
       "      <th>sec</th>\n",
       "      <th>price</th>\n",
       "      <th>arrived</th>\n",
       "      <th>checkout</th>\n",
       "      <th>spent_time</th>\n",
       "      <th>started_dairy</th>\n",
       "    </tr>\n",
       "  </thead>\n",
       "  <tbody>\n",
       "    <tr>\n",
       "      <th>0</th>\n",
       "      <td>2019-09-02 07:03:00</td>\n",
       "      <td>1</td>\n",
       "      <td>dairy</td>\n",
       "      <td>2019-09-02</td>\n",
       "      <td>7</td>\n",
       "      <td>3</td>\n",
       "      <td>0</td>\n",
       "      <td>5</td>\n",
       "      <td>2019-09-02 07:03:00</td>\n",
       "      <td>2019-09-02 07:05:00</td>\n",
       "      <td>2.0</td>\n",
       "      <td>dairy</td>\n",
       "    </tr>\n",
       "    <tr>\n",
       "      <th>1</th>\n",
       "      <td>2019-09-02 07:03:00</td>\n",
       "      <td>2</td>\n",
       "      <td>dairy</td>\n",
       "      <td>2019-09-02</td>\n",
       "      <td>7</td>\n",
       "      <td>3</td>\n",
       "      <td>0</td>\n",
       "      <td>5</td>\n",
       "      <td>2019-09-02 07:03:00</td>\n",
       "      <td>2019-09-02 07:06:00</td>\n",
       "      <td>3.0</td>\n",
       "      <td>dairy</td>\n",
       "    </tr>\n",
       "    <tr>\n",
       "      <th>2</th>\n",
       "      <td>2019-09-02 07:04:00</td>\n",
       "      <td>3</td>\n",
       "      <td>dairy</td>\n",
       "      <td>2019-09-02</td>\n",
       "      <td>7</td>\n",
       "      <td>4</td>\n",
       "      <td>0</td>\n",
       "      <td>5</td>\n",
       "      <td>2019-09-02 07:04:00</td>\n",
       "      <td>2019-09-02 07:06:00</td>\n",
       "      <td>2.0</td>\n",
       "      <td>dairy</td>\n",
       "    </tr>\n",
       "    <tr>\n",
       "      <th>3</th>\n",
       "      <td>2019-09-02 07:04:00</td>\n",
       "      <td>4</td>\n",
       "      <td>dairy</td>\n",
       "      <td>2019-09-02</td>\n",
       "      <td>7</td>\n",
       "      <td>4</td>\n",
       "      <td>0</td>\n",
       "      <td>5</td>\n",
       "      <td>2019-09-02 07:04:00</td>\n",
       "      <td>2019-09-02 07:08:00</td>\n",
       "      <td>4.0</td>\n",
       "      <td>dairy</td>\n",
       "    </tr>\n",
       "    <tr>\n",
       "      <th>4</th>\n",
       "      <td>2019-09-02 07:04:00</td>\n",
       "      <td>5</td>\n",
       "      <td>spices</td>\n",
       "      <td>2019-09-02</td>\n",
       "      <td>7</td>\n",
       "      <td>4</td>\n",
       "      <td>0</td>\n",
       "      <td>3</td>\n",
       "      <td>2019-09-02 07:04:00</td>\n",
       "      <td>2019-09-02 07:05:00</td>\n",
       "      <td>1.0</td>\n",
       "      <td>dairy</td>\n",
       "    </tr>\n",
       "    <tr>\n",
       "      <th>...</th>\n",
       "      <td>...</td>\n",
       "      <td>...</td>\n",
       "      <td>...</td>\n",
       "      <td>...</td>\n",
       "      <td>...</td>\n",
       "      <td>...</td>\n",
       "      <td>...</td>\n",
       "      <td>...</td>\n",
       "      <td>...</td>\n",
       "      <td>...</td>\n",
       "      <td>...</td>\n",
       "      <td>...</td>\n",
       "    </tr>\n",
       "    <tr>\n",
       "      <th>4879</th>\n",
       "      <td>2019-09-02 21:49:00</td>\n",
       "      <td>1442</td>\n",
       "      <td>checkout</td>\n",
       "      <td>2019-09-02</td>\n",
       "      <td>21</td>\n",
       "      <td>49</td>\n",
       "      <td>0</td>\n",
       "      <td>0</td>\n",
       "      <td>2019-09-02 21:47:00</td>\n",
       "      <td>2019-09-02 21:49:00</td>\n",
       "      <td>2.0</td>\n",
       "      <td>dairy</td>\n",
       "    </tr>\n",
       "    <tr>\n",
       "      <th>4880</th>\n",
       "      <td>2019-09-02 21:49:00</td>\n",
       "      <td>1444</td>\n",
       "      <td>checkout</td>\n",
       "      <td>2019-09-02</td>\n",
       "      <td>21</td>\n",
       "      <td>49</td>\n",
       "      <td>0</td>\n",
       "      <td>0</td>\n",
       "      <td>2019-09-02 21:48:00</td>\n",
       "      <td>2019-09-02 21:49:00</td>\n",
       "      <td>1.0</td>\n",
       "      <td>dairy</td>\n",
       "    </tr>\n",
       "    <tr>\n",
       "      <th>4881</th>\n",
       "      <td>2019-09-02 21:49:00</td>\n",
       "      <td>1445</td>\n",
       "      <td>dairy</td>\n",
       "      <td>2019-09-02</td>\n",
       "      <td>21</td>\n",
       "      <td>49</td>\n",
       "      <td>0</td>\n",
       "      <td>5</td>\n",
       "      <td>2019-09-02 21:49:00</td>\n",
       "      <td>2019-09-02 21:49:00</td>\n",
       "      <td>0.0</td>\n",
       "      <td>dairy</td>\n",
       "    </tr>\n",
       "    <tr>\n",
       "      <th>4882</th>\n",
       "      <td>2019-09-02 21:50:00</td>\n",
       "      <td>1446</td>\n",
       "      <td>dairy</td>\n",
       "      <td>2019-09-02</td>\n",
       "      <td>21</td>\n",
       "      <td>50</td>\n",
       "      <td>0</td>\n",
       "      <td>5</td>\n",
       "      <td>2019-09-02 21:50:00</td>\n",
       "      <td>2019-09-02 21:50:00</td>\n",
       "      <td>0.0</td>\n",
       "      <td>dairy</td>\n",
       "    </tr>\n",
       "    <tr>\n",
       "      <th>4883</th>\n",
       "      <td>2019-09-02 21:50:00</td>\n",
       "      <td>1447</td>\n",
       "      <td>fruit</td>\n",
       "      <td>2019-09-02</td>\n",
       "      <td>21</td>\n",
       "      <td>50</td>\n",
       "      <td>0</td>\n",
       "      <td>4</td>\n",
       "      <td>2019-09-02 21:50:00</td>\n",
       "      <td>2019-09-02 21:50:00</td>\n",
       "      <td>0.0</td>\n",
       "      <td>dairy</td>\n",
       "    </tr>\n",
       "  </tbody>\n",
       "</table>\n",
       "<p>4884 rows × 12 columns</p>\n",
       "</div>"
      ],
      "text/plain": [
       "               timestamp  customer_no  location        date  hour  min  sec  \\\n",
       "0    2019-09-02 07:03:00            1     dairy  2019-09-02     7    3    0   \n",
       "1    2019-09-02 07:03:00            2     dairy  2019-09-02     7    3    0   \n",
       "2    2019-09-02 07:04:00            3     dairy  2019-09-02     7    4    0   \n",
       "3    2019-09-02 07:04:00            4     dairy  2019-09-02     7    4    0   \n",
       "4    2019-09-02 07:04:00            5    spices  2019-09-02     7    4    0   \n",
       "...                  ...          ...       ...         ...   ...  ...  ...   \n",
       "4879 2019-09-02 21:49:00         1442  checkout  2019-09-02    21   49    0   \n",
       "4880 2019-09-02 21:49:00         1444  checkout  2019-09-02    21   49    0   \n",
       "4881 2019-09-02 21:49:00         1445     dairy  2019-09-02    21   49    0   \n",
       "4882 2019-09-02 21:50:00         1446     dairy  2019-09-02    21   50    0   \n",
       "4883 2019-09-02 21:50:00         1447     fruit  2019-09-02    21   50    0   \n",
       "\n",
       "      price             arrived            checkout  spent_time started_dairy  \n",
       "0         5 2019-09-02 07:03:00 2019-09-02 07:05:00         2.0         dairy  \n",
       "1         5 2019-09-02 07:03:00 2019-09-02 07:06:00         3.0         dairy  \n",
       "2         5 2019-09-02 07:04:00 2019-09-02 07:06:00         2.0         dairy  \n",
       "3         5 2019-09-02 07:04:00 2019-09-02 07:08:00         4.0         dairy  \n",
       "4         3 2019-09-02 07:04:00 2019-09-02 07:05:00         1.0         dairy  \n",
       "...     ...                 ...                 ...         ...           ...  \n",
       "4879      0 2019-09-02 21:47:00 2019-09-02 21:49:00         2.0         dairy  \n",
       "4880      0 2019-09-02 21:48:00 2019-09-02 21:49:00         1.0         dairy  \n",
       "4881      5 2019-09-02 21:49:00 2019-09-02 21:49:00         0.0         dairy  \n",
       "4882      5 2019-09-02 21:50:00 2019-09-02 21:50:00         0.0         dairy  \n",
       "4883      4 2019-09-02 21:50:00 2019-09-02 21:50:00         0.0         dairy  \n",
       "\n",
       "[4884 rows x 12 columns]"
      ]
     },
     "execution_count": 22,
     "metadata": {},
     "output_type": "execute_result"
    }
   ],
   "source": [
    "df101_new"
   ]
  },
  {
   "cell_type": "code",
   "execution_count": null,
   "metadata": {},
   "outputs": [],
   "source": []
  },
  {
   "cell_type": "code",
   "execution_count": null,
   "metadata": {},
   "outputs": [],
   "source": []
  },
  {
   "cell_type": "code",
   "execution_count": null,
   "metadata": {},
   "outputs": [],
   "source": []
  },
  {
   "cell_type": "code",
   "execution_count": null,
   "metadata": {},
   "outputs": [],
   "source": []
  },
  {
   "cell_type": "code",
   "execution_count": null,
   "metadata": {},
   "outputs": [],
   "source": []
  },
  {
   "cell_type": "code",
   "execution_count": null,
   "metadata": {},
   "outputs": [],
   "source": []
  },
  {
   "cell_type": "code",
   "execution_count": null,
   "metadata": {},
   "outputs": [],
   "source": []
  },
  {
   "cell_type": "code",
   "execution_count": null,
   "metadata": {},
   "outputs": [],
   "source": []
  },
  {
   "cell_type": "code",
   "execution_count": null,
   "metadata": {},
   "outputs": [],
   "source": []
  },
  {
   "cell_type": "code",
   "execution_count": null,
   "metadata": {},
   "outputs": [],
   "source": []
  },
  {
   "cell_type": "code",
   "execution_count": null,
   "metadata": {},
   "outputs": [],
   "source": []
  },
  {
   "cell_type": "code",
   "execution_count": 23,
   "metadata": {},
   "outputs": [
    {
     "data": {
      "text/plain": [
       "<bound method DataFrame.sort_values of                timestamp  customer_no  location        date  hour  min  sec  \\\n",
       "0    2019-09-02 07:03:00            1     dairy  2019-09-02     7    3    0   \n",
       "1    2019-09-02 07:03:00            2     dairy  2019-09-02     7    3    0   \n",
       "2    2019-09-02 07:04:00            3     dairy  2019-09-02     7    4    0   \n",
       "3    2019-09-02 07:04:00            4     dairy  2019-09-02     7    4    0   \n",
       "4    2019-09-02 07:04:00            5    spices  2019-09-02     7    4    0   \n",
       "...                  ...          ...       ...         ...   ...  ...  ...   \n",
       "4879 2019-09-02 21:49:00         1442  checkout  2019-09-02    21   49    0   \n",
       "4880 2019-09-02 21:49:00         1444  checkout  2019-09-02    21   49    0   \n",
       "4881 2019-09-02 21:49:00         1445     dairy  2019-09-02    21   49    0   \n",
       "4882 2019-09-02 21:50:00         1446     dairy  2019-09-02    21   50    0   \n",
       "4883 2019-09-02 21:50:00         1447     fruit  2019-09-02    21   50    0   \n",
       "\n",
       "      price             arrived            checkout  spent_time  \n",
       "0         5 2019-09-02 07:03:00 2019-09-02 07:05:00         2.0  \n",
       "1         5 2019-09-02 07:03:00 2019-09-02 07:06:00         3.0  \n",
       "2         5 2019-09-02 07:04:00 2019-09-02 07:06:00         2.0  \n",
       "3         5 2019-09-02 07:04:00 2019-09-02 07:08:00         4.0  \n",
       "4         3 2019-09-02 07:04:00 2019-09-02 07:05:00         1.0  \n",
       "...     ...                 ...                 ...         ...  \n",
       "4879      0 2019-09-02 21:47:00 2019-09-02 21:49:00         2.0  \n",
       "4880      0 2019-09-02 21:48:00 2019-09-02 21:49:00         1.0  \n",
       "4881      5 2019-09-02 21:49:00 2019-09-02 21:49:00         0.0  \n",
       "4882      5 2019-09-02 21:50:00 2019-09-02 21:50:00         0.0  \n",
       "4883      4 2019-09-02 21:50:00 2019-09-02 21:50:00         0.0  \n",
       "\n",
       "[4884 rows x 11 columns]>"
      ]
     },
     "execution_count": 23,
     "metadata": {},
     "output_type": "execute_result"
    }
   ],
   "source": [
    "df.sort_values"
   ]
  },
  {
   "cell_type": "code",
   "execution_count": 24,
   "metadata": {
    "scrolled": true
   },
   "outputs": [
    {
     "name": "stderr",
     "output_type": "stream",
     "text": [
      "<ipython-input-24-1fcf7c26f110>:6: SettingWithCopyWarning: \n",
      "A value is trying to be set on a copy of a slice from a DataFrame.\n",
      "Try using .loc[row_indexer,col_indexer] = value instead\n",
      "\n",
      "See the caveats in the documentation: https://pandas.pydata.org/pandas-docs/stable/user_guide/indexing.html#returning-a-view-versus-a-copy\n",
      "  df_c7['spent_time'] = df_diff\n"
     ]
    },
    {
     "ename": "NameError",
     "evalue": "name 'x' is not defined",
     "output_type": "error",
     "traceback": [
      "\u001b[1;31m---------------------------------------------------------------------------\u001b[0m",
      "\u001b[1;31mNameError\u001b[0m                                 Traceback (most recent call last)",
      "\u001b[1;32m<ipython-input-24-1fcf7c26f110>\u001b[0m in \u001b[0;36m<module>\u001b[1;34m\u001b[0m\n\u001b[0;32m      5\u001b[0m \u001b[0mdf_diff\u001b[0m \u001b[1;33m=\u001b[0m \u001b[0mdf_c7_max\u001b[0m\u001b[1;33m-\u001b[0m\u001b[0mdf_c7_min\u001b[0m\u001b[1;33m\u001b[0m\u001b[1;33m\u001b[0m\u001b[0m\n\u001b[0;32m      6\u001b[0m \u001b[0mdf_c7\u001b[0m\u001b[1;33m[\u001b[0m\u001b[1;34m'spent_time'\u001b[0m\u001b[1;33m]\u001b[0m \u001b[1;33m=\u001b[0m \u001b[0mdf_diff\u001b[0m\u001b[1;33m\u001b[0m\u001b[1;33m\u001b[0m\u001b[0m\n\u001b[1;32m----> 7\u001b[1;33m \u001b[0mprint\u001b[0m\u001b[1;33m(\u001b[0m\u001b[0mx\u001b[0m\u001b[1;33m)\u001b[0m\u001b[1;33m\u001b[0m\u001b[1;33m\u001b[0m\u001b[0m\n\u001b[0m\u001b[0;32m      8\u001b[0m \u001b[1;31m# print(df_c7.iloc[0,2])\u001b[0m\u001b[1;33m\u001b[0m\u001b[1;33m\u001b[0m\u001b[1;33m\u001b[0m\u001b[0m\n\u001b[0;32m      9\u001b[0m \u001b[1;31m# print(df_c7.location.values)\u001b[0m\u001b[1;33m\u001b[0m\u001b[1;33m\u001b[0m\u001b[1;33m\u001b[0m\u001b[0m\n",
      "\u001b[1;31mNameError\u001b[0m: name 'x' is not defined"
     ]
    }
   ],
   "source": [
    "df_c7 = df[df['customer_no']==1]\n",
    "df_c7.sort_values(by='timestamp')\n",
    "df_c7_min = df_c7['timestamp'].min()\n",
    "df_c7_max = df_c7['timestamp'].max()\n",
    "df_diff = df_c7_max-df_c7_min\n",
    "df_c7['spent_time'] = df_diff\n",
    "print(x)\n",
    "# print(df_c7.iloc[0,2])\n",
    "# print(df_c7.location.values)\n",
    "\n",
    "if df_c7.iloc[0,2] == 'dairy':\n",
    "    df_c7['started_dairy'] = df_c7.iloc[0,2]\n",
    "elif df_c7.iloc[0,2] == 'checkout':\n",
    "    df_c7['started_checkout'] = df_c7.iloc[0,2]\n",
    "elif df_c7.iloc[0,2] == 'drinks':\n",
    "    df_c7['started_drinks'] = df_c7.iloc[0,2]\n",
    "elif df_c7.iloc[0,2] == 'fruit':\n",
    "    df_c7['started_fruit'] = df_c7.iloc[0,2]\n",
    "elif df_c7.iloc[0,2] == 'spices':\n",
    "    df_c7['started_spices'] = df_c7.iloc[0,2]\n",
    "\n",
    "\n",
    "# df_c7_new = pd.DataFrame[['timestamp','customer_no','location','started_dairy', 'transition_state']]\n",
    "# df_c7_new =\n",
    "\n",
    "# y = df_c7.location.values\n",
    "# print(y)\n",
    "# df_c7['transition_state'] = y\n",
    "    \n",
    "\n",
    "print(df_diff)\n",
    "df_c7"
   ]
  },
  {
   "cell_type": "code",
   "execution_count": null,
   "metadata": {},
   "outputs": [],
   "source": []
  },
  {
   "cell_type": "code",
   "execution_count": null,
   "metadata": {},
   "outputs": [],
   "source": [
    "def time_spent(customer_no):\n",
    "    df_cx = df_c[df_c['customer_no']==customer_no]\n",
    "    df_cx_min = df_cx['timestamp'].min()\n",
    "    df_cx_max = df_cx['timestamp'].max()\n",
    "    spent_time = df_cx_max - df_cx_min\n",
    "    \n",
    "    return spent_time    \n",
    "\n",
    "df_c['Spent_time'] = df_c['customer_no'].apply(time_spent)\n",
    "df_c"
   ]
  },
  {
   "cell_type": "code",
   "execution_count": null,
   "metadata": {},
   "outputs": [],
   "source": [
    "df_c[df_c['customer_no']==1433]"
   ]
  }
 ],
 "metadata": {
  "kernelspec": {
   "display_name": "Python 3",
   "language": "python",
   "name": "python3"
  },
  "language_info": {
   "codemirror_mode": {
    "name": "ipython",
    "version": 3
   },
   "file_extension": ".py",
   "mimetype": "text/x-python",
   "name": "python",
   "nbconvert_exporter": "python",
   "pygments_lexer": "ipython3",
   "version": "3.8.3"
  }
 },
 "nbformat": 4,
 "nbformat_minor": 4
}
